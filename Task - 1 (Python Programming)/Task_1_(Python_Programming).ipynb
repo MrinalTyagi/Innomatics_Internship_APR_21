{
  "nbformat": 4,
  "nbformat_minor": 0,
  "metadata": {
    "colab": {
      "name": "Task - 1 (Python Programming).ipynb",
      "provenance": [],
      "collapsed_sections": []
    },
    "kernelspec": {
      "name": "python3",
      "display_name": "Python 3"
    },
    "language_info": {
      "name": "python"
    }
  },
  "cells": [
    {
      "cell_type": "code",
      "metadata": {
        "id": "v93_f95cZAJ1",
        "colab": {
          "base_uri": "https://localhost:8080/"
        },
        "outputId": "992a2ccd-0eab-4c1d-9c6d-0c20f357e268"
      },
      "source": [
        "#Question 1\n",
        "#Say \"Hello, World!\"\n",
        "print(\"Hello, World!\")"
      ],
      "execution_count": 1,
      "outputs": [
        {
          "output_type": "stream",
          "text": [
            "Hello, World!\n"
          ],
          "name": "stdout"
        }
      ]
    },
    {
      "cell_type": "code",
      "metadata": {
        "colab": {
          "base_uri": "https://localhost:8080/"
        },
        "id": "lAAPMjJnaGao",
        "outputId": "d4d23bda-da20-48aa-ef72-7af8b30120db"
      },
      "source": [
        "#Question 2\n",
        "#If-Else\n",
        "n = input()\n",
        "n = int(n)\n",
        "if n % 2 == 1:\n",
        "  print(\"Weird\")\n",
        "else:\n",
        "  if n >=2 and n <= 5:\n",
        "    print(\"Not Weird\")\n",
        "  elif n >= 6 and n <= 20:\n",
        "    print(\"Weird\")\n",
        "  elif n > 20:\n",
        "    print(\"Not Weird\")"
      ],
      "execution_count": 3,
      "outputs": [
        {
          "output_type": "stream",
          "text": [
            "24\n",
            "Not Weird\n"
          ],
          "name": "stdout"
        }
      ]
    },
    {
      "cell_type": "code",
      "metadata": {
        "colab": {
          "base_uri": "https://localhost:8080/"
        },
        "id": "fdXe-2f4ay4S",
        "outputId": "7ea7fd3a-c8d3-45ee-de5b-233a34836790"
      },
      "source": [
        "#Question 3\n",
        "#Arithmetic Operators\n",
        "a = input()\n",
        "b = input()\n",
        "a, b = int(a), int(b)\n",
        "print(a+b)\n",
        "print(a-b)\n",
        "print(a*b)"
      ],
      "execution_count": 4,
      "outputs": [
        {
          "output_type": "stream",
          "text": [
            "3\n",
            "2\n",
            "5\n",
            "1\n",
            "6\n"
          ],
          "name": "stdout"
        }
      ]
    },
    {
      "cell_type": "code",
      "metadata": {
        "colab": {
          "base_uri": "https://localhost:8080/"
        },
        "id": "8lKmpbJ7bVlq",
        "outputId": "e313c5a7-a0ae-46ab-8507-31f081e7fc63"
      },
      "source": [
        "#Question 4\n",
        "#Division\n",
        "a = input()\n",
        "b = input()\n",
        "a, b = int(a), int(b)\n",
        "print(a//b)\n",
        "print(a/b)"
      ],
      "execution_count": 8,
      "outputs": [
        {
          "output_type": "stream",
          "text": [
            "4\n",
            "3\n",
            "1\n",
            "1.3333333333333333\n"
          ],
          "name": "stdout"
        }
      ]
    },
    {
      "cell_type": "code",
      "metadata": {
        "colab": {
          "base_uri": "https://localhost:8080/"
        },
        "id": "vRqhytDCbs9C",
        "outputId": "3667d84a-5472-484c-db09-adcc626e60db"
      },
      "source": [
        "#Question 5\n",
        "#Loops\n",
        "n = input()\n",
        "n = int(n)\n",
        "for i in range(0, n):\n",
        "  print(i * i)"
      ],
      "execution_count": 10,
      "outputs": [
        {
          "output_type": "stream",
          "text": [
            "5\n",
            "0\n",
            "1\n",
            "4\n",
            "9\n",
            "16\n"
          ],
          "name": "stdout"
        }
      ]
    },
    {
      "cell_type": "code",
      "metadata": {
        "colab": {
          "base_uri": "https://localhost:8080/"
        },
        "id": "WSA-wE7DcR-q",
        "outputId": "4cbaf00f-3443-4b24-c31e-0e11582a3632"
      },
      "source": [
        "#Question 6\n",
        "#Write a function\n",
        "\n",
        "def is_leap(year):\n",
        "  leap = False\n",
        "  if year % 4 == 0:\n",
        "    leap = True\n",
        "    if year % 100 == 0:\n",
        "      leap = False\n",
        "      if year % 400 == 0:\n",
        "        leap = True\n",
        "\n",
        "  return leap\n",
        "\n",
        "year = input()\n",
        "year = int(year)\n",
        "print(is_leap(year))"
      ],
      "execution_count": 11,
      "outputs": [
        {
          "output_type": "stream",
          "text": [
            "1990\n",
            "False\n"
          ],
          "name": "stdout"
        }
      ]
    },
    {
      "cell_type": "code",
      "metadata": {
        "colab": {
          "base_uri": "https://localhost:8080/"
        },
        "id": "4ki1uctYdM0D",
        "outputId": "323df1f5-5894-43c9-f796-2927f18b1419"
      },
      "source": [
        "#Question 7\n",
        "#Print Function\n",
        "\n",
        "n = input()\n",
        "n = int(n)\n",
        "for i in range(1, n+1):\n",
        "  print(i, end=\"\")"
      ],
      "execution_count": 13,
      "outputs": [
        {
          "output_type": "stream",
          "text": [
            "3\n",
            "123"
          ],
          "name": "stdout"
        }
      ]
    }
  ]
}