{
  "nbformat": 4,
  "nbformat_minor": 0,
  "metadata": {
    "colab": {
      "name": "Task - 6 (Numpy).ipynb",
      "provenance": [],
      "collapsed_sections": []
    },
    "kernelspec": {
      "name": "python3",
      "display_name": "Python 3"
    },
    "language_info": {
      "name": "python"
    }
  },
  "cells": [
    {
      "cell_type": "code",
      "metadata": {
        "id": "zqCKUL3yCZVp"
      },
      "source": [
        "import numpy as np"
      ],
      "execution_count": 1,
      "outputs": []
    },
    {
      "cell_type": "code",
      "metadata": {
        "colab": {
          "base_uri": "https://localhost:8080/"
        },
        "id": "mPLpwCS2Cc1_",
        "outputId": "e1707294-0505-486c-d42a-d46e4d285b6f"
      },
      "source": [
        "#Question 1\n",
        "#Arrays\n",
        "arr = list(map(int, input().split(\" \")))\n",
        "arr.reverse()\n",
        "n = np.array(arr, dtype=float)\n",
        "print(n)"
      ],
      "execution_count": 7,
      "outputs": [
        {
          "output_type": "stream",
          "text": [
            "1 2 3 4 -8 -10\n",
            "[-10.  -8.   4.   3.   2.   1.]\n"
          ],
          "name": "stdout"
        }
      ]
    },
    {
      "cell_type": "code",
      "metadata": {
        "colab": {
          "base_uri": "https://localhost:8080/"
        },
        "id": "KBZcHYB3C4TM",
        "outputId": "8ab23911-9661-43f2-f7a9-236bd3f3003f"
      },
      "source": [
        "#Question 2\n",
        "#Shape and Reshape\n",
        "n = list(map(int, input().split(\" \")))\n",
        "arr = np.array(n)\n",
        "arr = np.reshape(arr, (3,3))\n",
        "print(arr)"
      ],
      "execution_count": 10,
      "outputs": [
        {
          "output_type": "stream",
          "text": [
            "1 2 3 4 5 6 7 8 9\n",
            "[[1 2 3]\n",
            " [4 5 6]\n",
            " [7 8 9]]\n"
          ],
          "name": "stdout"
        }
      ]
    },
    {
      "cell_type": "code",
      "metadata": {
        "colab": {
          "base_uri": "https://localhost:8080/"
        },
        "id": "E0QUpdvGDuBs",
        "outputId": "d9a7280e-a1a8-4aac-cc89-d427a9e1aa1d"
      },
      "source": [
        "#Question 3\n",
        "#Transpose and Flatten\n",
        "n, m = input().split()\n",
        "n, m = int(n), int(m)\n",
        "arr = []\n",
        "for i in range(n):\n",
        "  a = list(map(int, input().split(\" \")))\n",
        "  arr.append(a)\n",
        "arr = np.array(arr)\n",
        "print(arr.T)\n",
        "print(arr.flatten())"
      ],
      "execution_count": 12,
      "outputs": [
        {
          "output_type": "stream",
          "text": [
            "2 2\n",
            "1 2\n",
            "3 4\n",
            "[[1 3]\n",
            " [2 4]]\n",
            "[1 2 3 4]\n"
          ],
          "name": "stdout"
        }
      ]
    },
    {
      "cell_type": "code",
      "metadata": {
        "colab": {
          "base_uri": "https://localhost:8080/"
        },
        "id": "cQfKfmaYEi6M",
        "outputId": "46c856b8-0994-4673-cc8e-4488a47f20b2"
      },
      "source": [
        "#Question 4\n",
        "#Concatenate\n",
        "n, m, p = input().split(\" \")\n",
        "n, m, p = int(n), int(m), int(p)\n",
        "arr1 = []\n",
        "arr2 = []\n",
        "for i in range(n):\n",
        "  d = list(map(int, input().split(\" \")))\n",
        "  arr1.append(d)\n",
        "for i in range(m):\n",
        "  d = list(map(int, input().split(\" \")))\n",
        "  arr2.append(d)\n",
        "arr1 = np.array(arr1)\n",
        "arr2 = np.array(arr2)\n",
        "print(np.concatenate((arr1, arr2), axis = 0))"
      ],
      "execution_count": 13,
      "outputs": [
        {
          "output_type": "stream",
          "text": [
            "4 3 2\n",
            "1 2\n",
            "1 2\n",
            "1 2\n",
            "1 2\n",
            "3 4\n",
            "3 4\n",
            "3 4\n",
            "[[1 2]\n",
            " [1 2]\n",
            " [1 2]\n",
            " [1 2]\n",
            " [3 4]\n",
            " [3 4]\n",
            " [3 4]]\n"
          ],
          "name": "stdout"
        }
      ]
    },
    {
      "cell_type": "code",
      "metadata": {
        "colab": {
          "base_uri": "https://localhost:8080/"
        },
        "id": "xptaNNvvFwnt",
        "outputId": "b7d10008-8323-4086-e401-df7026b41811"
      },
      "source": [
        "#Question 5\n",
        "#Zeros and Ones\n",
        "shape = tuple(map(int, input().split(\" \")))\n",
        "print(np.zeros(shape, dtype=int))\n",
        "print(np.ones(shape, dtype=int))"
      ],
      "execution_count": 15,
      "outputs": [
        {
          "output_type": "stream",
          "text": [
            "3 3 3\n",
            "[[[0 0 0]\n",
            "  [0 0 0]\n",
            "  [0 0 0]]\n",
            "\n",
            " [[0 0 0]\n",
            "  [0 0 0]\n",
            "  [0 0 0]]\n",
            "\n",
            " [[0 0 0]\n",
            "  [0 0 0]\n",
            "  [0 0 0]]]\n",
            "[[[1 1 1]\n",
            "  [1 1 1]\n",
            "  [1 1 1]]\n",
            "\n",
            " [[1 1 1]\n",
            "  [1 1 1]\n",
            "  [1 1 1]]\n",
            "\n",
            " [[1 1 1]\n",
            "  [1 1 1]\n",
            "  [1 1 1]]]\n"
          ],
          "name": "stdout"
        }
      ]
    },
    {
      "cell_type": "code",
      "metadata": {
        "colab": {
          "base_uri": "https://localhost:8080/"
        },
        "id": "JgP4GqXdGRjk",
        "outputId": "a58e4ad7-f1e7-499b-9067-cdce905e58e2"
      },
      "source": [
        "#Question 6\n",
        "#Eye and Identity\n",
        "np.set_printoptions(legacy=\"1.13\")\n",
        "n, m = input().split(\" \")\n",
        "n, m = int(n), int(m)\n",
        "print(np.eye(n, m, k = 0))"
      ],
      "execution_count": 17,
      "outputs": [
        {
          "output_type": "stream",
          "text": [
            "3 3\n",
            "[[ 1.  0.  0.]\n",
            " [ 0.  1.  0.]\n",
            " [ 0.  0.  1.]]\n"
          ],
          "name": "stdout"
        }
      ]
    },
    {
      "cell_type": "code",
      "metadata": {
        "colab": {
          "base_uri": "https://localhost:8080/"
        },
        "id": "k0VeqznVHBGs",
        "outputId": "3cc78c96-dad3-40e7-8a59-39bb581fea6f"
      },
      "source": [
        "#Question 7\n",
        "#Array Mathematics\n",
        "n, m = input().split(\" \")\n",
        "n, m = int(n), int(m)\n",
        "arr1 = []\n",
        "arr2 = []\n",
        "for i in range(n):\n",
        "  d = list(map(int, input().split(\" \")))\n",
        "  arr1.append(d)\n",
        "for i in range(n):\n",
        "  d = list(map(int, input().split(\" \")))\n",
        "  arr2.append(d)\n",
        "arr1 = np.array(arr1)\n",
        "arr2 = np.array(arr2)\n",
        "print(np.add(arr1, arr2))\n",
        "print(np.subtract(arr1, arr2))\n",
        "print(np.multiply(arr1, arr2))\n",
        "print(np.floor_divide(arr1, arr2))\n",
        "print(np.mod(arr1, arr2))\n",
        "print(np.power(arr1, arr2))"
      ],
      "execution_count": 24,
      "outputs": [
        {
          "output_type": "stream",
          "text": [
            "1 4\n",
            "1 2 3 4\n",
            "5 6 7 8\n",
            "[[ 6  8 10 12]]\n",
            "[[-4 -4 -4 -4]]\n",
            "[[ 5 12 21 32]]\n",
            "[[0 0 0 0]]\n",
            "[[1 2 3 4]]\n",
            "[[    1    64  2187 65536]]\n"
          ],
          "name": "stdout"
        }
      ]
    },
    {
      "cell_type": "code",
      "metadata": {
        "colab": {
          "base_uri": "https://localhost:8080/"
        },
        "id": "DOiUUdhNH51t",
        "outputId": "f8ca66fa-4542-420a-8c2c-04c7546c647c"
      },
      "source": [
        "#Question 8 \n",
        "#Floor, Ceil and Rint\n",
        "np.set_printoptions(legacy=\"1.13\")\n",
        "arr = list(map(float, input().split(\" \")))\n",
        "arr = np.array(arr)\n",
        "print(np.floor(arr))\n",
        "print(np.ceil(arr))\n",
        "print(np.rint(arr))"
      ],
      "execution_count": 26,
      "outputs": [
        {
          "output_type": "stream",
          "text": [
            "1.1 2.2 3.3 4.4 5.5 6.6 7.7 8.8 9.9\n",
            "[ 1.  2.  3.  4.  5.  6.  7.  8.  9.]\n",
            "[  2.   3.   4.   5.   6.   7.   8.   9.  10.]\n",
            "[  1.   2.   3.   4.   6.   7.   8.   9.  10.]\n"
          ],
          "name": "stdout"
        }
      ]
    },
    {
      "cell_type": "code",
      "metadata": {
        "colab": {
          "base_uri": "https://localhost:8080/"
        },
        "id": "gm9yooYlJJZt",
        "outputId": "a10312de-73f3-4254-ca2c-11dd39878b6e"
      },
      "source": [
        "#Question 9\n",
        "#Sum and Prod\n",
        "n, m = input().split(\" \")\n",
        "n, m = int(n), int(m)\n",
        "arr = []\n",
        "for _ in range(n):\n",
        "  d = list(map(int, input().split(\" \")))\n",
        "  arr.append(d)\n",
        "arr = np.array(arr)\n",
        "print(np.product(np.sum(arr, axis = 0), axis = 0))"
      ],
      "execution_count": 30,
      "outputs": [
        {
          "output_type": "stream",
          "text": [
            "2 2\n",
            "1 2\n",
            "3 4\n",
            "24\n"
          ],
          "name": "stdout"
        }
      ]
    },
    {
      "cell_type": "code",
      "metadata": {
        "colab": {
          "base_uri": "https://localhost:8080/"
        },
        "id": "l2rqvS8jKDuV",
        "outputId": "14a0ac9e-4177-4a9c-9807-2c8eeacabcd4"
      },
      "source": [
        "#Question 10\n",
        "#Min and Max\n",
        "n, m = input().split(\" \")\n",
        "n, m = int(n), int(m)\n",
        "arr = []\n",
        "for _ in range(n):\n",
        "  d = list(map(int, input().split(\" \")))\n",
        "  arr.append(d)\n",
        "arr = np.array(arr)\n",
        "min = np.min(arr, axis = 1)\n",
        "print(np.max(min))"
      ],
      "execution_count": 33,
      "outputs": [
        {
          "output_type": "stream",
          "text": [
            "4 2\n",
            "2 5\n",
            "3 7\n",
            "1 3\n",
            "4 0\n",
            "3\n"
          ],
          "name": "stdout"
        }
      ]
    },
    {
      "cell_type": "code",
      "metadata": {
        "colab": {
          "base_uri": "https://localhost:8080/"
        },
        "id": "zsON-Vn2K0X2",
        "outputId": "966fbfb2-ce1c-425d-9caf-b65c00c31813"
      },
      "source": [
        "#Question 11\n",
        "#Mean, Var, and Std\n",
        "np.set_printoptions(legacy=\"1.13\")\n",
        "n, m = input().split(\" \")\n",
        "n, m = int(n), int(m)\n",
        "arr = []\n",
        "for _ in range(n):\n",
        "  d = list(map(int, input().split(\" \")))\n",
        "  arr.append(d)\n",
        "arr = np.array(arr)\n",
        "print(np.mean(arr, axis = 1))\n",
        "print(np.var(arr, axis = 0))\n",
        "print(np.std(arr))"
      ],
      "execution_count": 35,
      "outputs": [
        {
          "output_type": "stream",
          "text": [
            "2 2\n",
            "1 2\n",
            "3 4\n",
            "[ 1.5  3.5]\n",
            "[ 1.  1.]\n",
            "1.11803398875\n"
          ],
          "name": "stdout"
        }
      ]
    },
    {
      "cell_type": "code",
      "metadata": {
        "colab": {
          "base_uri": "https://localhost:8080/"
        },
        "id": "qEtQbFqNLfym",
        "outputId": "8eb9d350-4794-46d5-c61e-814cac650600"
      },
      "source": [
        "#Question 12\n",
        "#Dot and Cross\n",
        "n = int(input())\n",
        "a = []\n",
        "b = []\n",
        "for _ in range(n):\n",
        "  d = list(map(int, input().split(\" \")))\n",
        "  a.append(d)\n",
        "for _ in range(n):\n",
        "  d = list(map(int, input().split(\" \")))\n",
        "  b.append(d)\n",
        "a = np.array(a)\n",
        "b = np.array(b)\n",
        "print(np.dot(a, b))"
      ],
      "execution_count": 37,
      "outputs": [
        {
          "output_type": "stream",
          "text": [
            "2\n",
            "1 2\n",
            "3 4\n",
            "1 2\n",
            "3 4\n",
            "[[ 7 10]\n",
            " [15 22]]\n"
          ],
          "name": "stdout"
        }
      ]
    },
    {
      "cell_type": "code",
      "metadata": {
        "colab": {
          "base_uri": "https://localhost:8080/"
        },
        "id": "K_lOm2q4M_BG",
        "outputId": "6898d81a-f39b-4bd0-c4e5-2658b4bbe891"
      },
      "source": [
        "#Question 13\n",
        "#Inner and Outer\n",
        "a = list(map(int, input().split(\" \")))\n",
        "b = list(map(int, input().split(\" \")))\n",
        "a = np.array(a)\n",
        "b = np.array(b)\n",
        "print(np.inner(a, b))\n",
        "print(np.outer(a, b))"
      ],
      "execution_count": 38,
      "outputs": [
        {
          "output_type": "stream",
          "text": [
            "0 1\n",
            "2 3\n",
            "3\n",
            "[[0 0]\n",
            " [2 3]]\n"
          ],
          "name": "stdout"
        }
      ]
    },
    {
      "cell_type": "code",
      "metadata": {
        "colab": {
          "base_uri": "https://localhost:8080/"
        },
        "id": "sh_-Q3T-NmYm",
        "outputId": "79e213a3-9aeb-4fb6-9672-be2b4f210a40"
      },
      "source": [
        "#Question 14\n",
        "#Polynomials\n",
        "arr = list(map(float, input().split(\" \")))\n",
        "n = int(input())\n",
        "arr = np.array(arr)\n",
        "print(np.polyval(arr, n))"
      ],
      "execution_count": 42,
      "outputs": [
        {
          "output_type": "stream",
          "text": [
            "1.1 2 3\n",
            "0\n",
            "3.0\n"
          ],
          "name": "stdout"
        }
      ]
    },
    {
      "cell_type": "code",
      "metadata": {
        "colab": {
          "base_uri": "https://localhost:8080/"
        },
        "id": "vhPlEUuTONYl",
        "outputId": "91172655-9ed0-4b81-a64e-2a58a3f9f9ce"
      },
      "source": [
        "#Question 15\n",
        "#Linear Algebra\n",
        "n = int(input())\n",
        "arr = []\n",
        "for _ in range(n):\n",
        "  d = list(map(float, input().split(\" \")))\n",
        "  arr.append(d)\n",
        "arr = np.array(arr)\n",
        "print(np.linalg.det(arr).round(2))"
      ],
      "execution_count": 45,
      "outputs": [
        {
          "output_type": "stream",
          "text": [
            "2\n",
            "1.1 1.1\n",
            "1.1 1.1\n",
            "0.0\n"
          ],
          "name": "stdout"
        }
      ]
    }
  ]
}