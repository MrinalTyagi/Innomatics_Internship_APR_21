{
  "nbformat": 4,
  "nbformat_minor": 0,
  "metadata": {
    "colab": {
      "name": "Task - 9 (Hypothesis Testing).ipynb",
      "provenance": [],
      "collapsed_sections": [],
      "toc_visible": true
    },
    "kernelspec": {
      "name": "python3",
      "display_name": "Python 3"
    },
    "language_info": {
      "name": "python"
    }
  },
  "cells": [
    {
      "cell_type": "code",
      "metadata": {
        "id": "Em9bvUi8Xda0"
      },
      "source": [
        "import numpy as np\n",
        "import matplotlib.pyplot as plt\n",
        "import scipy.stats\n",
        "from scipy.stats import t\n",
        "from scipy.stats import norm"
      ],
      "execution_count": 1,
      "outputs": []
    },
    {
      "cell_type": "code",
      "metadata": {
        "id": "DWqACWyCX1-f"
      },
      "source": [
        "def t_score(population_mean, sample_mean, sample_size, sample_std):\n",
        "  numerator = population_mean - sample_mean\n",
        "  denominator = sample_std / (sample_size ** 0.5)\n",
        "  return numerator / denominator"
      ],
      "execution_count": 2,
      "outputs": []
    },
    {
      "cell_type": "markdown",
      "metadata": {
        "id": "iQEqt7Hr-YGk"
      },
      "source": [
        "#Question 1\n",
        "Pista House selling Hyderabadi Chicken Dum biryani claims that each parcel packet has 500 grams of biryani (also mentioned on the label of packet). You are sceptic of their claims and believe that on average each packet does not contain 500 grams of biryani. How do you prove your claim?"
      ]
    },
    {
      "cell_type": "markdown",
      "metadata": {
        "id": "Wh-dLaVc-j8t"
      },
      "source": [
        "Step 1 (Decide Null and Alternate Hypothesis) $\\implies$\n",
        "\n",
        "$$ Null \\ Hypothesis(Status \\ Quo) : H_0 \\ \\implies \\ \\mu=500 \\ gm $$\n",
        "$$ Alternate \\ Hypothesis(Bold \\ Claim) : H_1 \\ \\implies \\ \\mu \\neq \\ 500gm $$\n",
        "\n",
        "Step 2 (Collect samples to compute test statistics) $\\implies$\n",
        "\n",
        "$$ Samples(x) = [450, 600, 290, 350, 550] $$\n",
        "$$ n = 5 $$\n",
        "\n",
        "Step 3 (Compute test statistics on the sample collected) $\\implies$\n",
        "$$ \\mu_\\bar{x} = \\frac{\\sum_{i=0}^{n-1} x_i}{n} = 448 \\ gm $$\n",
        "$$ x \\implies Samples $$\n",
        "\n",
        "$$ S^2 = \\frac{\\sum_{i=0}^{n-1} (x_i - \\mu_x)^2}{n} = 13616$$\n",
        "\n",
        "Z Score here can't be calculated due to absense of population standard deviation, so we will calculate t score.\n",
        "$$ t \\ score = \\frac{\\mu_x - \\mu_\\bar{x}}{S/\\sqrt{n}} = 0.996 $$\n",
        "\n",
        "Step 4(Decide significance level) $\\implies$\n",
        "$$ Confidence = 95\\% $$\n",
        "$$ 1 - \\alpha = 0.95 $$\n",
        "$$ \\alpha = 0.05 $$\n",
        "\n",
        "Step 5.1 (Apply decision Rule using t score)  $\\implies$\n",
        " 1. In case of 2 tailed $\\implies$ $$ |t| > t_{{n - 1}, {\\frac{\\alpha}{2}} } \\implies Reject \\ H_0, \\ Accept \\ H_1 $$\n",
        " 2. In case of right tailed $\\implies$ $$ t > t_{{n-1}, {\\alpha}} \\implies Reject \\ H_0, \\ Accept \\ H_1 $$ \n",
        " 3. In case of left tailed  $\\implies$ $$ t < t_{{n-1}, \\alpha} \\implies Reject \\ H_0, \\ Accept \\ H_1 $$\n",
        "\n",
        "Here we will use two tailed test $\\implies$ $$ |t| < t_{4, 0.025} \\\\ 0.996 < 2.776 \\\\ We \\ Reject \\ H_1 $$\n",
        "\n",
        "Step 5.2 (Apply decision Rule using p score)$\\implies$\n",
        "1. For 2 tailed test $\\implies$ $$ p \\ value = 2 * (1 - cdf(test \\ statistic)) $$\n",
        "2. For one tailed test $\\implies$ $$ p \\ value = (1 - cdf(test \\ statistic)) $$\n",
        "\n",
        "$$ if (p \\ values < \\alpha) \\implies Reject \\ H_0, \\ Accept \\ H_1 $$\n",
        "$$  where \\ cdf \\ is \\ Cumulative \\ distribution \\ function \\ of \\ t \\ score $$\n",
        "\n",
        "Here we use two tailed test $\\implies$ $$ p \\ value = 2 * (1 - cdf(0.996)) \\\\ p \\ value = 0.319 \\\\ p \\ value > \\alpha \\\\ We \\ Reject \\ H_1 $$"
      ]
    },
    {
      "cell_type": "code",
      "metadata": {
        "colab": {
          "base_uri": "https://localhost:8080/"
        },
        "id": "lnS63WjmYVGK",
        "outputId": "316c63e9-7459-4536-eddf-7509c50bc7b6"
      },
      "source": [
        "l = [450, 600, 290, 350, 550]\n",
        "sample_mean = sum(l) / len(l)\n",
        "print(sample_mean)"
      ],
      "execution_count": 3,
      "outputs": [
        {
          "output_type": "stream",
          "text": [
            "448.0\n"
          ],
          "name": "stdout"
        }
      ]
    },
    {
      "cell_type": "code",
      "metadata": {
        "colab": {
          "base_uri": "https://localhost:8080/"
        },
        "id": "RQudESBUYVT1",
        "outputId": "f38853f2-4bfa-45a9-9b22-f2c62a4d8b7b"
      },
      "source": [
        "s = 0\n",
        "for i in l:\n",
        "  s+=pow((i - sample_mean), 2)\n",
        "sample_variance = s / len(l)\n",
        "print(sample_variance)"
      ],
      "execution_count": 4,
      "outputs": [
        {
          "output_type": "stream",
          "text": [
            "13616.0\n"
          ],
          "name": "stdout"
        }
      ]
    },
    {
      "cell_type": "code",
      "metadata": {
        "colab": {
          "base_uri": "https://localhost:8080/"
        },
        "id": "uem--cxoY9zB",
        "outputId": "e0eb6a2e-3e0a-471d-daca-e530e88697fa"
      },
      "source": [
        "sample_std = sample_variance ** 0.5\n",
        "print(sample_std)"
      ],
      "execution_count": 5,
      "outputs": [
        {
          "output_type": "stream",
          "text": [
            "116.68761716651858\n"
          ],
          "name": "stdout"
        }
      ]
    },
    {
      "cell_type": "code",
      "metadata": {
        "id": "tftARV3PZUyP"
      },
      "source": [
        "population_mean = 500\n",
        "sample_size = len(l)"
      ],
      "execution_count": 6,
      "outputs": []
    },
    {
      "cell_type": "code",
      "metadata": {
        "colab": {
          "base_uri": "https://localhost:8080/"
        },
        "id": "LgaUiNYzY93_",
        "outputId": "d26d3579-1a22-473d-c3c5-ccaf21bcd6ff"
      },
      "source": [
        "t_calculated = t_score(population_mean, sample_mean, sample_size, sample_std)\n",
        "print(t_calculated) "
      ],
      "execution_count": 7,
      "outputs": [
        {
          "output_type": "stream",
          "text": [
            "0.9964684998585458\n"
          ],
          "name": "stdout"
        }
      ]
    },
    {
      "cell_type": "code",
      "metadata": {
        "colab": {
          "base_uri": "https://localhost:8080/"
        },
        "id": "kxk5Mhk8Zm_k",
        "outputId": "d309a80b-5c95-4f49-84ab-75ffcf11652c"
      },
      "source": [
        "alpha = 1 - 0.95\n",
        "print(round(alpha, 2))"
      ],
      "execution_count": 8,
      "outputs": [
        {
          "output_type": "stream",
          "text": [
            "0.05\n"
          ],
          "name": "stdout"
        }
      ]
    },
    {
      "cell_type": "code",
      "metadata": {
        "colab": {
          "base_uri": "https://localhost:8080/"
        },
        "id": "rXXsWc0Pad_Z",
        "outputId": "f42e5c29-5f2d-420d-d9f2-56cc894eb30b"
      },
      "source": [
        "#Two tail test\n",
        "t_critical = t.ppf(1-alpha/2, df=4)\n",
        "print(t_critical)"
      ],
      "execution_count": 9,
      "outputs": [
        {
          "output_type": "stream",
          "text": [
            "2.7764451051977987\n"
          ],
          "name": "stdout"
        }
      ]
    },
    {
      "cell_type": "code",
      "metadata": {
        "colab": {
          "base_uri": "https://localhost:8080/"
        },
        "id": "eJ4TnAdlaeGi",
        "outputId": "d0992feb-ef2d-4607-d8ec-4a74546c83bf"
      },
      "source": [
        "if abs(t_calculated) < t_critical:\n",
        "  print(\"Accept Null Hypothesis\")\n",
        "else:\n",
        "  print(\"Reject Null Hypothesis\") "
      ],
      "execution_count": 10,
      "outputs": [
        {
          "output_type": "stream",
          "text": [
            "Accept Null Hypothesis\n"
          ],
          "name": "stdout"
        }
      ]
    },
    {
      "cell_type": "code",
      "metadata": {
        "colab": {
          "base_uri": "https://localhost:8080/"
        },
        "id": "yxGsBkJ4cHYb",
        "outputId": "75e8c885-62b2-47af-ccce-cdaaa6659bda"
      },
      "source": [
        "#Two tail test\n",
        "p_val = 2 * (1-norm.cdf(abs(t_calculated)))\n",
        "print(p_val)"
      ],
      "execution_count": 11,
      "outputs": [
        {
          "output_type": "stream",
          "text": [
            "0.3190225648886287\n"
          ],
          "name": "stdout"
        }
      ]
    },
    {
      "cell_type": "code",
      "metadata": {
        "colab": {
          "base_uri": "https://localhost:8080/"
        },
        "id": "N4659g5udExe",
        "outputId": "0991cfa7-2b72-436c-949d-19fa3b2f2db6"
      },
      "source": [
        "if (p_val > alpha):\n",
        "  print(\"We accept Null Hypothesis\")\n",
        "else:\n",
        "  print(\"We reject Null Hypothesis\")"
      ],
      "execution_count": 12,
      "outputs": [
        {
          "output_type": "stream",
          "text": [
            "We accept Null Hypothesis\n"
          ],
          "name": "stdout"
        }
      ]
    },
    {
      "cell_type": "code",
      "metadata": {
        "colab": {
          "base_uri": "https://localhost:8080/",
          "height": 283
        },
        "id": "4VxA6yVteN-y",
        "outputId": "49a64212-27ee-4313-e852-906fd8ad503f"
      },
      "source": [
        "x_min = min(l)\n",
        "x_max = max(l)\n",
        "mean = sample_mean\n",
        "std = sample_std\n",
        "\n",
        "x = np.linspace(x_min, x_max, 100)\n",
        "y = norm.pdf(x, mean, std)\n",
        "plt.plot(x, y)\n",
        "\n",
        "t_critical_left = mean + (-1 * t_critical * std)\n",
        "t_critical_right = mean + (t_critical * std)\n",
        "\n",
        "x1 = np.linspace(x_min, t_critical_left, 100)\n",
        "y1 = norm.pdf(x1, mean, std)\n",
        "plt.fill_between(x1, y1, color=\"turquoise\")\n",
        "\n",
        "x2 = np.linspace(t_critical_right, x_max, 100)\n",
        "y2 = norm.pdf(x2, mean, std)\n",
        "plt.fill_between(x2, y2, color=\"turquoise\")\n",
        "\n",
        "plt.scatter(mean, 0)\n",
        "plt.annotate(\"X_bar\", (mean, 0.0007))"
      ],
      "execution_count": 13,
      "outputs": [
        {
          "output_type": "execute_result",
          "data": {
            "text/plain": [
              "Text(448.0, 0.0007, 'X_bar')"
            ]
          },
          "metadata": {
            "tags": []
          },
          "execution_count": 13
        },
        {
          "output_type": "display_data",
          "data": {
            "image/png": "[encoded data removed]",
            "text/plain": [
              "<Figure size 432x288 with 1 Axes>"
            ]
          },
          "metadata": {
            "tags": [],
            "needs_background": "light"
          }
        }
      ]
    },
    {
      "cell_type": "markdown",
      "metadata": {
        "id": "-UQaNOjEMD4a"
      },
      "source": [
        "#Question 2\n",
        "You have developed a new Natural Language Processing Algorithms and done a user study. You claim that the average rating given by the users is greater than 4 on a scale of 1 to 5. How do you prove this to your client?"
      ]
    },
    {
      "cell_type": "markdown",
      "metadata": {
        "id": "RcYfTuO2MJWu"
      },
      "source": [
        "Step 1 (Decide Null and Alternate Hypothesis) $\\implies$\n",
        "\n",
        "$$ Null \\ Hypothesis(Status \\ Quo) : H_0 \\ \\implies \\ \\mu \\leq 4 $$\n",
        "$$ Alternate \\ Hypothesis(Bold \\ Claim) : H_1 \\ \\implies \\ \\mu  >  4 $$\n",
        "\n",
        "Step 2 (Collect samples to compute test statistics) $\\implies$\n",
        "\n",
        "$$ Samples(x) = [4.1, 3.2, 5, 3.5, 4.9] $$\n",
        "$$ n = 5 $$\n",
        "\n",
        "Step 3 (Compute test statistics on the sample collected) $\\implies$\n",
        "$$ \\mu_\\bar{x} = \\frac{\\sum_{i=0}^{n-1} x_i}{n} = 4.14 $$\n",
        "$$ x \\implies Samples $$\n",
        "\n",
        "$$ S^2 = \\frac{\\sum_{i=0}^{n-1} (x_i - \\mu_x)^2}{n} = 0.522 $$\n",
        "\n",
        "Z Score here can't be calculated due to absense of population standard deviation, so we will calculate t score.\n",
        "$$ t \\ score = \\frac{\\mu_x - \\mu_\\bar{x}}{S/\\sqrt{n}} = -0.433 $$\n",
        "\n",
        "Step 4(Decide significance level) $\\implies$\n",
        "$$ Confidence = 95\\% $$\n",
        "$$ 1 - \\alpha = 0.95 $$\n",
        "$$ \\alpha = 0.05 $$\n",
        "\n",
        "Step 5.1 (Apply decision Rule using t score)  $\\implies$\n",
        " 1. In case of 2 tailed $\\implies$ $$ |t| > t_{{n - 1}, {\\frac{\\alpha}{2}} } \\implies Reject \\ H_0, \\ Accept \\ H_1 $$\n",
        " 2. In case of right tailed $\\implies$ $$ t > t_{{n-1}, {\\alpha}} \\implies Reject \\ H_0, \\ Accept \\ H_1 $$ \n",
        " 3. In case of left tailed  $\\implies$ $$ t < t_{{n-1}, \\alpha} \\implies Reject \\ H_0, \\ Accept \\ H_1 $$\n",
        "\n",
        "Here we will use two tailed test $\\implies$ $$ |t| < t_{4, 0.05} \\\\ 0.433 < 2.132 \\\\ We \\ Reject \\ H_1 $$\n",
        "\n",
        "Step 5.2 (Apply decision Rule using p score)$\\implies$\n",
        "1. For 2 tailed test $\\implies$ $$ p \\ value = 2 * (1 - cdf(test \\ statistic)) $$\n",
        "2. For one tailed test $\\implies$ $$ p \\ value = (1 - cdf(test \\ statistic)) $$\n",
        "\n",
        "$$ if (p \\ values < \\alpha) \\implies Reject \\ H_0, \\ Accept \\ H_1 $$\n",
        "$$  where \\ cdf \\ is \\ Cumulative \\ distribution \\ function \\ of \\ t \\ score $$\n",
        "\n",
        "Here we use two tailed test $\\implies$ $$ p \\ value = (1 - cdf(0.433)) \\\\ p \\ value = 0.332 \\\\ p \\ value > \\alpha \\\\ We \\ Reject \\ H_1 $$"
      ]
    },
    {
      "cell_type": "code",
      "metadata": {
        "colab": {
          "base_uri": "https://localhost:8080/"
        },
        "id": "sbTf09y6baQQ",
        "outputId": "cb3b210b-7876-464b-d46e-6915ce68fdf6"
      },
      "source": [
        "l = [4.1, 3.2, 5, 3.5, 4.9]\n",
        "sample_mean = sum(l) / len(l)\n",
        "print(sample_mean)"
      ],
      "execution_count": 14,
      "outputs": [
        {
          "output_type": "stream",
          "text": [
            "4.140000000000001\n"
          ],
          "name": "stdout"
        }
      ]
    },
    {
      "cell_type": "code",
      "metadata": {
        "colab": {
          "base_uri": "https://localhost:8080/"
        },
        "id": "sZAL2noKbacS",
        "outputId": "4fc9beb5-3291-477f-b960-d4d5e0f733e6"
      },
      "source": [
        "s = 0\n",
        "for i in l:\n",
        "  s+=pow((i - sample_mean), 2)\n",
        "sample_variance = s / len(l)\n",
        "print(sample_variance)"
      ],
      "execution_count": 15,
      "outputs": [
        {
          "output_type": "stream",
          "text": [
            "0.5224\n"
          ],
          "name": "stdout"
        }
      ]
    },
    {
      "cell_type": "code",
      "metadata": {
        "colab": {
          "base_uri": "https://localhost:8080/"
        },
        "id": "pkxSBJKhbaio",
        "outputId": "f72c875a-0b3d-48ab-e73d-fed57873ea6f"
      },
      "source": [
        "sample_std = sample_variance ** 0.5\n",
        "print(sample_std)"
      ],
      "execution_count": 16,
      "outputs": [
        {
          "output_type": "stream",
          "text": [
            "0.7227724399837061\n"
          ],
          "name": "stdout"
        }
      ]
    },
    {
      "cell_type": "code",
      "metadata": {
        "id": "6MaOHn74balo"
      },
      "source": [
        "population_mean = 4\n",
        "sample_size = len(l)"
      ],
      "execution_count": 17,
      "outputs": []
    },
    {
      "cell_type": "code",
      "metadata": {
        "colab": {
          "base_uri": "https://localhost:8080/"
        },
        "id": "mMr4hZ3IbaoT",
        "outputId": "23877014-aff8-4bb8-c893-f30e8280d986"
      },
      "source": [
        "t_calculated = t_score(population_mean, sample_mean, sample_size, sample_std)\n",
        "print(t_calculated) "
      ],
      "execution_count": 18,
      "outputs": [
        {
          "output_type": "stream",
          "text": [
            "-0.43312320660293735\n"
          ],
          "name": "stdout"
        }
      ]
    },
    {
      "cell_type": "code",
      "metadata": {
        "colab": {
          "base_uri": "https://localhost:8080/"
        },
        "id": "5Tfy47q7baqn",
        "outputId": "27abca4f-9ad0-4ea8-fd86-e948f52c430a"
      },
      "source": [
        "alpha = 1 - 0.95\n",
        "print(round(alpha, 2))"
      ],
      "execution_count": 19,
      "outputs": [
        {
          "output_type": "stream",
          "text": [
            "0.05\n"
          ],
          "name": "stdout"
        }
      ]
    },
    {
      "cell_type": "code",
      "metadata": {
        "colab": {
          "base_uri": "https://localhost:8080/"
        },
        "id": "GLYHWiLObatL",
        "outputId": "b97041fa-6dc7-4ff1-ed24-ba407f569b64"
      },
      "source": [
        "#One tail test\n",
        "t_critical = t.ppf(1-alpha, df=4)\n",
        "print(t_critical)"
      ],
      "execution_count": 20,
      "outputs": [
        {
          "output_type": "stream",
          "text": [
            "2.13184678133629\n"
          ],
          "name": "stdout"
        }
      ]
    },
    {
      "cell_type": "code",
      "metadata": {
        "colab": {
          "base_uri": "https://localhost:8080/"
        },
        "id": "E_LYgEQhbavj",
        "outputId": "ffe5529c-da39-4d5b-e6fc-8b5648a5d259"
      },
      "source": [
        "if abs(t_calculated) < t_critical:\n",
        "  print(\"Accept Null Hypothesis\")\n",
        "else:\n",
        "  print(\"Reject Null Hypothesis\") "
      ],
      "execution_count": 21,
      "outputs": [
        {
          "output_type": "stream",
          "text": [
            "Accept Null Hypothesis\n"
          ],
          "name": "stdout"
        }
      ]
    },
    {
      "cell_type": "code",
      "metadata": {
        "colab": {
          "base_uri": "https://localhost:8080/"
        },
        "id": "RLrIsR_kjeVv",
        "outputId": "e729d2a6-8456-40f7-d983-4d042b77cca2"
      },
      "source": [
        "#One tail test\n",
        "p_val = (1-norm.cdf(abs(t_calculated)))\n",
        "print(p_val)"
      ],
      "execution_count": 22,
      "outputs": [
        {
          "output_type": "stream",
          "text": [
            "0.3324626321609707\n"
          ],
          "name": "stdout"
        }
      ]
    },
    {
      "cell_type": "code",
      "metadata": {
        "colab": {
          "base_uri": "https://localhost:8080/"
        },
        "id": "1tctHpE0jjJJ",
        "outputId": "3270eab2-2e65-4a10-9ca1-0807016c26d7"
      },
      "source": [
        "if (p_val > alpha):\n",
        "  print(\"We accept Null Hypothesis\")\n",
        "else:\n",
        "  print(\"We reject Null Hypothesis\")"
      ],
      "execution_count": 23,
      "outputs": [
        {
          "output_type": "stream",
          "text": [
            "We accept Null Hypothesis\n"
          ],
          "name": "stdout"
        }
      ]
    },
    {
      "cell_type": "code",
      "metadata": {
        "colab": {
          "base_uri": "https://localhost:8080/",
          "height": 283
        },
        "id": "xAp11IiIil84",
        "outputId": "71ccc26c-2a05-44ad-a795-496209076aa9"
      },
      "source": [
        "x_min = min(l)\n",
        "x_max = max(l)\n",
        "mean = sample_mean\n",
        "std = sample_std\n",
        "\n",
        "x = np.linspace(x_min, x_max, 100)\n",
        "y = norm.pdf(x, mean, std)\n",
        "plt.plot(x, y)\n",
        "\n",
        "t_critical_right = mean + (t_critical * std)\n",
        "\n",
        "x1 = np.linspace(t_critical_right, x_max, 100)\n",
        "y1 = norm.pdf(x1, mean, std)\n",
        "plt.fill_between(x1, y1, color=\"turquoise\")\n",
        "\n",
        "plt.scatter(mean, 0)\n",
        "plt.annotate(\"X_bar\", (mean, 0.0007))"
      ],
      "execution_count": 24,
      "outputs": [
        {
          "output_type": "execute_result",
          "data": {
            "text/plain": [
              "Text(4.140000000000001, 0.0007, 'X_bar')"
            ]
          },
          "metadata": {
            "tags": []
          },
          "execution_count": 24
        },
        {
          "output_type": "display_data",
          "data": {
            "image/png": "[encoded data removed]",
            "text/plain": [
              "<Figure size 432x288 with 1 Axes>"
            ]
          },
          "metadata": {
            "tags": [],
            "needs_background": "light"
          }
        }
      ]
    },
    {
      "cell_type": "markdown",
      "metadata": {
        "id": "Hck6OvOaP5hv"
      },
      "source": [
        "#Question 3\n",
        "TATA has developed a better fuel management system for the SUV segment. They claim that with this system, on average the SUV's mileage is at least 15 km/litre?\n",
        "\n"
      ]
    },
    {
      "cell_type": "markdown",
      "metadata": {
        "id": "okxDVKBIQBCL"
      },
      "source": [
        "Step 1 (Decide Null and Alternate Hypothesis) $\\implies$\n",
        "\n",
        "$$ Null \\ Hypothesis(Status \\ Quo) : H_0 \\ \\implies \\ \\mu \\leq 15 \\ km/litre $$\n",
        "$$ Alternate \\ Hypothesis(Bold \\ Claim) : H_1 \\ \\implies \\ \\mu  >  15 \\ km/litre $$\n",
        "\n",
        "Step 2 (Collect samples to compute test statistics) $\\implies$\n",
        "\n",
        "$$ Samples(x) = [14.2, 13.9, 15.8, 13.5, 17.9, 12.5, 16.2, 15.9, 11.0, 19.5] $$\n",
        "$$ n = 10 $$\n",
        "\n",
        "Step 3 (Compute test statistics on the sample collected) $\\implies$\n",
        "$$ \\mu_\\bar{x} = \\frac{\\sum_{i=0}^{n-1} x_i}{n} = 15.04 $$\n",
        "$$ x \\implies Samples $$\n",
        "\n",
        "$$ S^2 = \\frac{\\sum_{i=0}^{n-1} (x_i - \\mu_x)^2}{n} = 5.788 $$\n",
        "\n",
        "Z Score here can't be calculated due to absense of population standard deviation, so we will calculate t score.\n",
        "$$ t \\ score = \\frac{\\mu_x - \\mu_\\bar{x}}{S/\\sqrt{n}} = -0.052 $$\n",
        "\n",
        "Step 4(Decide significance level) $\\implies$\n",
        "$$ Confidence = 90\\% $$\n",
        "$$ 1 - \\alpha = 0.90 $$\n",
        "$$ \\alpha = 0.10 $$\n",
        "\n",
        "Step 5.1 (Apply decision Rule using t score)  $\\implies$\n",
        " 1. In case of 2 tailed $\\implies$ $$ |t| > t_{{n - 1}, {\\frac{\\alpha}{2}} } \\implies Reject \\ H_0, \\ Accept \\ H_1 $$\n",
        " 2. In case of right tailed $\\implies$ $$ t > t_{{n-1}, {\\alpha}} \\implies Reject \\ H_0, \\ Accept \\ H_1 $$ \n",
        " 3. In case of left tailed  $\\implies$ $$ t < t_{{n-1}, \\alpha} \\implies Reject \\ H_0, \\ Accept \\ H_1 $$\n",
        "\n",
        "Here we will use two tailed test $\\implies$ $$ |t| < t_{9, 0.10} \\\\ 0.05 < 1.383 \\\\ We \\ Reject \\ H_1 $$\n",
        "\n",
        "Step 5.2 (Apply decision Rule using p score)$\\implies$\n",
        "1. For 2 tailed test $\\implies$ $$ p \\ value = 2 * (1 - cdf(test \\ statistic)) $$\n",
        "2. For one tailed test $\\implies$ $$ p \\ value = (1 - cdf(test \\ statistic)) $$\n",
        "\n",
        "$$ if (p \\ values < \\alpha) \\implies Reject \\ H_0, \\ Accept \\ H_1 $$\n",
        "\n",
        "Here we use two tailed test $\\implies$ $$ p \\ value = (1 - cdf(0.05)) \\\\ p \\ value = 0.479 \\\\ p \\ value > \\alpha \\\\ We \\ Reject \\ H_1 $$"
      ]
    },
    {
      "cell_type": "code",
      "metadata": {
        "colab": {
          "base_uri": "https://localhost:8080/"
        },
        "id": "9Y1dBbjxkA9s",
        "outputId": "b27e2fb4-b81f-44c3-c3f0-c31c06d5e277"
      },
      "source": [
        "l = [14.2, 13.9, 15.8, 13.5, 17.9, 12.5, 16.2, 15.9, 11.0, 19.5]\n",
        "sample_mean = sum(l) / len(l)\n",
        "print(sample_mean)"
      ],
      "execution_count": 25,
      "outputs": [
        {
          "output_type": "stream",
          "text": [
            "15.040000000000003\n"
          ],
          "name": "stdout"
        }
      ]
    },
    {
      "cell_type": "code",
      "metadata": {
        "colab": {
          "base_uri": "https://localhost:8080/"
        },
        "id": "h5YvPaXGkDmW",
        "outputId": "10079dc3-ea47-4b4e-a2db-14d41f58d147"
      },
      "source": [
        "s = 0\n",
        "for i in l:\n",
        "  s+=pow((i - sample_mean), 2)\n",
        "sample_variance = s / len(l)\n",
        "print(sample_variance)"
      ],
      "execution_count": 26,
      "outputs": [
        {
          "output_type": "stream",
          "text": [
            "5.788399999999999\n"
          ],
          "name": "stdout"
        }
      ]
    },
    {
      "cell_type": "code",
      "metadata": {
        "colab": {
          "base_uri": "https://localhost:8080/"
        },
        "id": "2Uc7rDY_kDo1",
        "outputId": "f4401479-0e70-41be-d935-e602067d9f92"
      },
      "source": [
        "sample_std = sample_variance ** 0.5\n",
        "print(sample_std)"
      ],
      "execution_count": 27,
      "outputs": [
        {
          "output_type": "stream",
          "text": [
            "2.405909391477576\n"
          ],
          "name": "stdout"
        }
      ]
    },
    {
      "cell_type": "code",
      "metadata": {
        "id": "bCHmXDfekDrL"
      },
      "source": [
        "population_mean = 15\n",
        "sample_size = len(l)"
      ],
      "execution_count": 28,
      "outputs": []
    },
    {
      "cell_type": "code",
      "metadata": {
        "colab": {
          "base_uri": "https://localhost:8080/"
        },
        "id": "nMiz0AJ7kDtt",
        "outputId": "ecd8543f-d14f-41e3-944d-053bd92d3e87"
      },
      "source": [
        "t_calculated = t_score(population_mean, sample_mean, sample_size, sample_std)\n",
        "print(t_calculated) "
      ],
      "execution_count": 29,
      "outputs": [
        {
          "output_type": "stream",
          "text": [
            "-0.05257517463243281\n"
          ],
          "name": "stdout"
        }
      ]
    },
    {
      "cell_type": "code",
      "metadata": {
        "colab": {
          "base_uri": "https://localhost:8080/"
        },
        "id": "21QVwr_QkDv0",
        "outputId": "86d192fa-037f-4390-b4f6-b1556f170cfa"
      },
      "source": [
        "alpha = 1 - 0.95\n",
        "print(round(alpha, 2))"
      ],
      "execution_count": 30,
      "outputs": [
        {
          "output_type": "stream",
          "text": [
            "0.05\n"
          ],
          "name": "stdout"
        }
      ]
    },
    {
      "cell_type": "code",
      "metadata": {
        "colab": {
          "base_uri": "https://localhost:8080/"
        },
        "id": "t-wnf8_fkDyH",
        "outputId": "2cd9e023-6ea5-4f78-d3cd-9c379cf07f5a"
      },
      "source": [
        "#One tail test\n",
        "t_critical = t.ppf(1-alpha, df=4)\n",
        "print(t_critical)"
      ],
      "execution_count": 31,
      "outputs": [
        {
          "output_type": "stream",
          "text": [
            "2.13184678133629\n"
          ],
          "name": "stdout"
        }
      ]
    },
    {
      "cell_type": "code",
      "metadata": {
        "colab": {
          "base_uri": "https://localhost:8080/"
        },
        "id": "O-J0zbGxkD0W",
        "outputId": "c7b089c2-0a3b-4567-8f7c-48de5f023023"
      },
      "source": [
        "if abs(t_calculated) < t_critical:\n",
        "  print(\"Accept Null Hypothesis\")\n",
        "else:\n",
        "  print(\"Reject Null Hypothesis\") "
      ],
      "execution_count": 32,
      "outputs": [
        {
          "output_type": "stream",
          "text": [
            "Accept Null Hypothesis\n"
          ],
          "name": "stdout"
        }
      ]
    },
    {
      "cell_type": "code",
      "metadata": {
        "colab": {
          "base_uri": "https://localhost:8080/"
        },
        "id": "q34EMDt5kD2R",
        "outputId": "d06935ad-0bfc-4ce8-9e32-d4041ba88062"
      },
      "source": [
        "#One tail test\n",
        "p_val = (1-norm.cdf(abs(t_calculated)))\n",
        "print(p_val)"
      ],
      "execution_count": 33,
      "outputs": [
        {
          "output_type": "stream",
          "text": [
            "0.479035198689981\n"
          ],
          "name": "stdout"
        }
      ]
    },
    {
      "cell_type": "code",
      "metadata": {
        "colab": {
          "base_uri": "https://localhost:8080/"
        },
        "id": "vmGWh8bPkD4o",
        "outputId": "a0279e2d-4149-46e4-d8e8-e09253d6234c"
      },
      "source": [
        "if (p_val > alpha):\n",
        "  print(\"We accept Null Hypothesis\")\n",
        "else:\n",
        "  print(\"We reject Null Hypothesis\")"
      ],
      "execution_count": 34,
      "outputs": [
        {
          "output_type": "stream",
          "text": [
            "We accept Null Hypothesis\n"
          ],
          "name": "stdout"
        }
      ]
    },
    {
      "cell_type": "code",
      "metadata": {
        "colab": {
          "base_uri": "https://localhost:8080/",
          "height": 283
        },
        "id": "64fUGXx6kD7E",
        "outputId": "2eeae2fb-4482-497e-ebbc-4de2f47d04c7"
      },
      "source": [
        "x_min = min(l)\n",
        "x_max = max(l)\n",
        "mean = sample_mean\n",
        "std = sample_std\n",
        "\n",
        "x = np.linspace(x_min, x_max, 100)\n",
        "y = norm.pdf(x, mean, std)\n",
        "plt.plot(x, y)\n",
        "\n",
        "t_critical_right = mean + (t_critical * std)\n",
        "\n",
        "x1 = np.linspace(t_critical_right, x_max, 100)\n",
        "y1 = norm.pdf(x1, mean, std)\n",
        "plt.fill_between(x1, y1, color=\"turquoise\")\n",
        "\n",
        "plt.scatter(mean, 0)\n",
        "plt.annotate(\"X_bar\", (mean, 0.0007))"
      ],
      "execution_count": 35,
      "outputs": [
        {
          "output_type": "execute_result",
          "data": {
            "text/plain": [
              "Text(15.040000000000003, 0.0007, 'X_bar')"
            ]
          },
          "metadata": {
            "tags": []
          },
          "execution_count": 35
        },
        {
          "output_type": "display_data",
          "data": {
            "image/png": "[encoded data removed]",
            "text/plain": [
              "<Figure size 432x288 with 1 Axes>"
            ]
          },
          "metadata": {
            "tags": [],
            "needs_background": "light"
          }
        }
      ]
    },
    {
      "cell_type": "markdown",
      "metadata": {
        "id": "I-oy3GmAUskT"
      },
      "source": [
        "#Question 4\n",
        "You have developed a new Machine Learning Application and claim that on average it takes less than 100 ms to predict for any future datapoint. How do you convince your client about this claim?"
      ]
    },
    {
      "cell_type": "markdown",
      "metadata": {
        "id": "-A-ddsF-Uzpb"
      },
      "source": [
        "Step 1 (Decide Null and Alternate Hypothesis) $\\implies$\n",
        "\n",
        "$$ Null \\ Hypothesis(Status \\ Quo) : H_0 \\ \\implies \\ \\mu \\geq 100 \\ ms $$\n",
        "$$ Alternate \\ Hypothesis(Bold \\ Claim) : H_1 \\ \\implies \\ \\mu  <  100 \\ ms $$\n",
        "\n",
        "Step 2 (Collect samples to compute test statistics) $\\implies$\n",
        "\n",
        "$$ Samples(x) = [99, 89, 104, 110, 120, 87, 92, 103, 108, 86] $$\n",
        "$$ n = 10 $$\n",
        "\n",
        "Step 3 (Compute test statistics on the sample collected) $\\implies$\n",
        "$$ \\mu_\\bar{x} = \\frac{\\sum_{i=0}^{n-1} x_i}{n} = 99.8 $$\n",
        "$$ x \\implies Samples $$\n",
        "\n",
        "$$ S^2 = \\frac{\\sum_{i=0}^{n-1} (x_i - \\mu_x)^2}{n} = 113.96 $$\n",
        "\n",
        "Z Score here can't be calculated due to absense of population standard deviation, so we will calculate t score.\n",
        "$$ t \\ score = \\frac{\\mu_x - \\mu_\\bar{x}}{S/\\sqrt{n}} = 0.059 $$\n",
        "\n",
        "Step 4(Decide significance level) $\\implies$\n",
        "$$ Confidence = 95\\% $$\n",
        "$$ 1 - \\alpha = 0.95 $$\n",
        "$$ \\alpha = 0.05 $$\n",
        "\n",
        "Step 5.1 (Apply decision Rule using t score)  $\\implies$\n",
        " 1. In case of 2 tailed $\\implies$ $$ |t| > t_{{n - 1}, {\\frac{\\alpha}{2}} } \\implies Reject \\ H_0, \\ Accept \\ H_1 $$\n",
        " 2. In case of right tailed $\\implies$ $$ t > t_{{n-1}, {\\alpha}} \\implies Reject \\ H_0, \\ Accept \\ H_1 $$ \n",
        " 3. In case of left tailed  $\\implies$ $$ t < t_{{n-1}, \\alpha} \\implies Reject \\ H_0, \\ Accept \\ H_1 $$\n",
        "\n",
        "Here we will use two tailed test $\\implies$ $$ |t| < t_{9, 0.05} \\\\ 0.059 < 1.833 \\\\ We \\ Reject \\ H_1 $$\n",
        "\n",
        "Step 5.2 (Apply decision Rule using p score)$\\implies$\n",
        "1. For 2 tailed test $\\implies$ $$ p \\ value = 2 * (1 - cdf(test \\ statistic)) $$\n",
        "2. For one tailed test $\\implies$ $$ p \\ value = (1 - cdf(test \\ statistic)) $$\n",
        "\n",
        "$$ if (p \\ values < \\alpha) \\implies Reject \\ H_0, \\ Accept \\ H_1 $$\n",
        "\n",
        "Here we use two tailed test $\\implies$ $$ p \\ value = (1 - 0.523) \\\\ p \\ value = 0.477 \\\\ p \\ value > \\alpha \\\\ We \\ Reject \\ H_1 $$"
      ]
    },
    {
      "cell_type": "code",
      "metadata": {
        "colab": {
          "base_uri": "https://localhost:8080/"
        },
        "id": "I9AN1RWCldms",
        "outputId": "8510ad73-ecef-4bdf-f996-f5567e711145"
      },
      "source": [
        "l = [99, 89, 104, 110, 120, 87, 92, 103, 108, 86]\n",
        "sample_mean = sum(l) / len(l)\n",
        "print(sample_mean)"
      ],
      "execution_count": 36,
      "outputs": [
        {
          "output_type": "stream",
          "text": [
            "99.8\n"
          ],
          "name": "stdout"
        }
      ]
    },
    {
      "cell_type": "code",
      "metadata": {
        "colab": {
          "base_uri": "https://localhost:8080/"
        },
        "id": "QolV0wy5ldpK",
        "outputId": "29fa2a66-b228-4225-c4eb-ad9efa681480"
      },
      "source": [
        "s = 0\n",
        "for i in l:\n",
        "  s+=pow((i - sample_mean), 2)\n",
        "sample_variance = s / len(l)\n",
        "print(sample_variance)"
      ],
      "execution_count": 37,
      "outputs": [
        {
          "output_type": "stream",
          "text": [
            "113.96\n"
          ],
          "name": "stdout"
        }
      ]
    },
    {
      "cell_type": "code",
      "metadata": {
        "colab": {
          "base_uri": "https://localhost:8080/"
        },
        "id": "mIlszEi7ldrh",
        "outputId": "7ed1c50d-a8cb-4bbd-bddc-e62f2f93de49"
      },
      "source": [
        "sample_std = sample_variance ** 0.5\n",
        "print(sample_std)"
      ],
      "execution_count": 38,
      "outputs": [
        {
          "output_type": "stream",
          "text": [
            "10.675204916066013\n"
          ],
          "name": "stdout"
        }
      ]
    },
    {
      "cell_type": "code",
      "metadata": {
        "id": "KX8YYS4Xldtn"
      },
      "source": [
        "population_mean = 100\n",
        "sample_size = len(l)"
      ],
      "execution_count": 39,
      "outputs": []
    },
    {
      "cell_type": "code",
      "metadata": {
        "colab": {
          "base_uri": "https://localhost:8080/"
        },
        "id": "YL_wTYnEldvy",
        "outputId": "c8b2c857-a95f-4448-fade-1530baf8099a"
      },
      "source": [
        "t_calculated = t_score(population_mean, sample_mean, sample_size, sample_std)\n",
        "print(t_calculated) "
      ],
      "execution_count": 40,
      "outputs": [
        {
          "output_type": "stream",
          "text": [
            "0.059245282597044056\n"
          ],
          "name": "stdout"
        }
      ]
    },
    {
      "cell_type": "code",
      "metadata": {
        "colab": {
          "base_uri": "https://localhost:8080/"
        },
        "id": "EDyzCocGldyD",
        "outputId": "76b97094-0656-40af-ac01-6e2fd9e2ead3"
      },
      "source": [
        "alpha = 1 - 0.95\n",
        "print(round(alpha, 2))"
      ],
      "execution_count": 41,
      "outputs": [
        {
          "output_type": "stream",
          "text": [
            "0.05\n"
          ],
          "name": "stdout"
        }
      ]
    },
    {
      "cell_type": "code",
      "metadata": {
        "colab": {
          "base_uri": "https://localhost:8080/"
        },
        "id": "1RYD4ms1ld0G",
        "outputId": "0b10ed5b-ff15-4582-f1e3-1a28ca133f4d"
      },
      "source": [
        "#One tail test\n",
        "t_critical = t.ppf(1-alpha, df=4)\n",
        "print(t_critical)"
      ],
      "execution_count": 42,
      "outputs": [
        {
          "output_type": "stream",
          "text": [
            "2.13184678133629\n"
          ],
          "name": "stdout"
        }
      ]
    },
    {
      "cell_type": "code",
      "metadata": {
        "colab": {
          "base_uri": "https://localhost:8080/"
        },
        "id": "NZbN4hrCld2B",
        "outputId": "2d0e97b9-0ed6-4d70-fbe2-b9e2ebce34ff"
      },
      "source": [
        "if abs(t_calculated) < t_critical:\n",
        "  print(\"Accept Null Hypothesis\")\n",
        "else:\n",
        "  print(\"Reject Null Hypothesis\") "
      ],
      "execution_count": 43,
      "outputs": [
        {
          "output_type": "stream",
          "text": [
            "Accept Null Hypothesis\n"
          ],
          "name": "stdout"
        }
      ]
    },
    {
      "cell_type": "code",
      "metadata": {
        "colab": {
          "base_uri": "https://localhost:8080/"
        },
        "id": "s65dbJ8Fld4E",
        "outputId": "e82fcfbc-e79d-4ab9-aa20-1526089a4406"
      },
      "source": [
        "#One tail test\n",
        "p_val = (1-norm.cdf(abs(t_calculated)))\n",
        "print(p_val)"
      ],
      "execution_count": 44,
      "outputs": [
        {
          "output_type": "stream",
          "text": [
            "0.47637837133194716\n"
          ],
          "name": "stdout"
        }
      ]
    },
    {
      "cell_type": "code",
      "metadata": {
        "colab": {
          "base_uri": "https://localhost:8080/"
        },
        "id": "SL6JFffolsYX",
        "outputId": "fbeae68a-0f93-413a-d270-5996d2fc50be"
      },
      "source": [
        "if (p_val > alpha):\n",
        "  print(\"We accept Null Hypothesis\")\n",
        "else:\n",
        "  print(\"We reject Null Hypothesis\")"
      ],
      "execution_count": 45,
      "outputs": [
        {
          "output_type": "stream",
          "text": [
            "We accept Null Hypothesis\n"
          ],
          "name": "stdout"
        }
      ]
    },
    {
      "cell_type": "code",
      "metadata": {
        "colab": {
          "base_uri": "https://localhost:8080/",
          "height": 283
        },
        "id": "-Ye5jBqKlsbA",
        "outputId": "a35a9fe1-3c6b-4612-8f23-df8e4347b19e"
      },
      "source": [
        "x_min = min(l)\n",
        "x_max = max(l)\n",
        "mean = sample_mean\n",
        "std = sample_std\n",
        "\n",
        "x = np.linspace(x_min, x_max, 100)\n",
        "y = norm.pdf(x, mean, std)\n",
        "plt.plot(x, y)\n",
        "\n",
        "t_critical_left = mean + (-1 * t_critical * std)\n",
        "\n",
        "x1 = np.linspace(x_min, t_critical_left, 100)\n",
        "y1 = norm.pdf(x1, mean, std)\n",
        "plt.fill_between(x1, y1, color=\"turquoise\")\n",
        "\n",
        "plt.scatter(mean, 0)\n",
        "plt.annotate(\"X_bar\", (mean, 0.0007))"
      ],
      "execution_count": 46,
      "outputs": [
        {
          "output_type": "execute_result",
          "data": {
            "text/plain": [
              "Text(99.8, 0.0007, 'X_bar')"
            ]
          },
          "metadata": {
            "tags": []
          },
          "execution_count": 46
        },
        {
          "output_type": "display_data",
          "data": {
            "image/png": "[encoded data removed]",
            "text/plain": [
              "<Figure size 432x288 with 1 Axes>"
            ]
          },
          "metadata": {
            "tags": [],
            "needs_background": "light"
          }
        }
      ]
    }
  ]
}