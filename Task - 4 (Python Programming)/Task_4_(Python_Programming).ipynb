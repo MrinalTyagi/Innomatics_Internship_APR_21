{
  "nbformat": 4,
  "nbformat_minor": 0,
  "metadata": {
    "colab": {
      "name": "Task - 4 (Python Programming).ipynb",
      "provenance": [],
      "collapsed_sections": []
    },
    "kernelspec": {
      "name": "python3",
      "display_name": "Python 3"
    },
    "language_info": {
      "name": "python"
    }
  },
  "cells": [
    {
      "cell_type": "code",
      "metadata": {
        "colab": {
          "base_uri": "https://localhost:8080/"
        },
        "id": "hvHcHV2U2FYa",
        "outputId": "c61e2bfa-9237-4669-8e0c-a63605766103"
      },
      "source": [
        "#Question 1\n",
        "#sWAP cASE\n",
        "n = input()\n",
        "print(n.swapcase())"
      ],
      "execution_count": null,
      "outputs": [
        {
          "output_type": "stream",
          "text": [
            "HackerRank.com presents \"Pythonist 2\".\n",
            "hACKERrANK.COM PRESENTS \"pYTHONIST 2\".\n"
          ],
          "name": "stdout"
        }
      ]
    },
    {
      "cell_type": "code",
      "metadata": {
        "colab": {
          "base_uri": "https://localhost:8080/"
        },
        "id": "3OMTI4rD2ZrL",
        "outputId": "8119add9-8ff8-4b69-a560-c7d61e26c755"
      },
      "source": [
        "#Question 3\n",
        "#String Split and Join\n",
        "n = list(map(str, input().split()))\n",
        "print('-'.join(n))"
      ],
      "execution_count": null,
      "outputs": [
        {
          "output_type": "stream",
          "text": [
            "this is a string\n",
            "this-is-a-string\n"
          ],
          "name": "stdout"
        }
      ]
    },
    {
      "cell_type": "code",
      "metadata": {
        "colab": {
          "base_uri": "https://localhost:8080/"
        },
        "id": "5c-dJKV12uu1",
        "outputId": "96f48707-74f5-4945-d48f-c46d43874031"
      },
      "source": [
        "#Question 3\n",
        "#What's Your Name?\n",
        "f = input()\n",
        "l = input()\n",
        "print(f'Hello {f} {l}! You just delved into python.')"
      ],
      "execution_count": null,
      "outputs": [
        {
          "output_type": "stream",
          "text": [
            "Ross\n",
            "Taylor\n",
            "Hello Ross Taylor! You just delved into python.\n"
          ],
          "name": "stdout"
        }
      ]
    },
    {
      "cell_type": "code",
      "metadata": {
        "colab": {
          "base_uri": "https://localhost:8080/"
        },
        "id": "5V6opfC-3PTO",
        "outputId": "1566f60d-b1c6-4be4-c76b-e7f649c77b8f"
      },
      "source": [
        "#Question 4\n",
        "#Mutations\n",
        "n = input()\n",
        "arr = []\n",
        "for i in n:\n",
        "  arr.append(i)\n",
        "loc = list(map(str, input().split()))\n",
        "arr[int(loc[0])] = loc[1]\n",
        "print(''.join(arr))"
      ],
      "execution_count": null,
      "outputs": [
        {
          "output_type": "stream",
          "text": [
            "abracadabra     \n",
            "5 k\n",
            "abrackdabra     \n"
          ],
          "name": "stdout"
        }
      ]
    },
    {
      "cell_type": "code",
      "metadata": {
        "colab": {
          "base_uri": "https://localhost:8080/"
        },
        "id": "kf2LUc6A4esf",
        "outputId": "c1787e62-fabc-4524-c375-17c16f9dbb93"
      },
      "source": [
        "#Question 5\n",
        "#Find a string\n",
        "a = input()\n",
        "b = input()\n",
        "sc = 0\n",
        "for i in range(len(a)):\n",
        "  if a[i:i+len(b)] == b:\n",
        "    sc+=1\n",
        "print(sc)"
      ],
      "execution_count": null,
      "outputs": [
        {
          "output_type": "stream",
          "text": [
            "ABCDCDC\n",
            "CDC\n",
            "2\n"
          ],
          "name": "stdout"
        }
      ]
    },
    {
      "cell_type": "code",
      "metadata": {
        "colab": {
          "base_uri": "https://localhost:8080/"
        },
        "id": "yf-X1Dji476N",
        "outputId": "89e8a7f3-d32a-4d20-bbb1-a922ae851f9f"
      },
      "source": [
        "#Question 6\n",
        "#String Validators\n",
        "n = input()\n",
        "alnum = [True if i.isalnum() else False for i in n]\n",
        "alpha = [True if i.isalpha() else False for i in n ]\n",
        "digit = [True if i.isdigit() else False for i in n]\n",
        "lower = [True if i.islower() else False for i in n]\n",
        "upper = [True if i.isupper() else False for i in n ]\n",
        "for i in [alnum, alpha, digit, lower, upper]:\n",
        "  if True in i:\n",
        "    print(True)\n",
        "  else:\n",
        "    print(False)"
      ],
      "execution_count": null,
      "outputs": [
        {
          "output_type": "stream",
          "text": [
            "qA2\n",
            "True\n",
            "True\n",
            "True\n",
            "True\n",
            "True\n"
          ],
          "name": "stdout"
        }
      ]
    },
    {
      "cell_type": "code",
      "metadata": {
        "colab": {
          "base_uri": "https://localhost:8080/"
        },
        "id": "_QuRFvzg5pgN",
        "outputId": "d52d7f59-d6b3-4706-bdc1-bf6d82ae474b"
      },
      "source": [
        "#Question 7\n",
        "#Text Alignment\n",
        "thickness = int(input()) #This must be an odd number\n",
        "c = 'H'\n",
        "#Top Cone\n",
        "for i in range(thickness):\n",
        "    print((c*i).rjust(thickness-1)+c+(c*i).ljust(thickness-1))\n",
        "\n",
        "#Top Pillars\n",
        "for i in range(thickness+1):\n",
        "    print((c*thickness).center(thickness*2)+(c*thickness).center(thickness*6))\n",
        "\n",
        "#Middle Belt\n",
        "for i in range((thickness+1)//2):\n",
        "    print((c*thickness*5).center(thickness*6))    \n",
        "\n",
        "#Bottom Pillars\n",
        "for i in range(thickness+1):\n",
        "    print((c*thickness).center(thickness*2)+(c*thickness).center(thickness*6))    \n",
        "\n",
        "#Bottom Cone\n",
        "for i in range(thickness):\n",
        "    print(((c*(thickness-i-1)).rjust(thickness)+c+(c*(thickness-i-1)).ljust(thickness)).rjust(thickness*6))"
      ],
      "execution_count": null,
      "outputs": [
        {
          "output_type": "stream",
          "text": [
            "5\n",
            "    H    \n",
            "   HHH   \n",
            "  HHHHH  \n",
            " HHHHHHH \n",
            "HHHHHHHHH\n",
            "  HHHHH               HHHHH             \n",
            "  HHHHH               HHHHH             \n",
            "  HHHHH               HHHHH             \n",
            "  HHHHH               HHHHH             \n",
            "  HHHHH               HHHHH             \n",
            "  HHHHH               HHHHH             \n",
            "  HHHHHHHHHHHHHHHHHHHHHHHHH   \n",
            "  HHHHHHHHHHHHHHHHHHHHHHHHH   \n",
            "  HHHHHHHHHHHHHHHHHHHHHHHHH   \n",
            "  HHHHH               HHHHH             \n",
            "  HHHHH               HHHHH             \n",
            "  HHHHH               HHHHH             \n",
            "  HHHHH               HHHHH             \n",
            "  HHHHH               HHHHH             \n",
            "  HHHHH               HHHHH             \n",
            "                    HHHHHHHHH \n",
            "                     HHHHHHH  \n",
            "                      HHHHH   \n",
            "                       HHH    \n",
            "                        H     \n"
          ],
          "name": "stdout"
        }
      ]
    },
    {
      "cell_type": "code",
      "metadata": {
        "colab": {
          "base_uri": "https://localhost:8080/"
        },
        "id": "Sf-T2Adn8YaM",
        "outputId": "60dabe57-1225-415e-efa4-49a34f728f7e"
      },
      "source": [
        "#Question 8\n",
        "#Text Wrap\n",
        "s = input()\n",
        "w = int(input())\n",
        "for i in range(0, len(s), w):\n",
        "  if i+w >= len(s):\n",
        "    print(s[i:])\n",
        "  else:\n",
        "    print(s[i:i+w])"
      ],
      "execution_count": null,
      "outputs": [
        {
          "output_type": "stream",
          "text": [
            "ABCDEFGHIJKLIMNOQRSTUVWXYZ\n",
            "4\n",
            "ABCD\n",
            "EFGH\n",
            "IJKL\n",
            "IMNO\n",
            "QRST\n",
            "UVWX\n",
            "YZ\n"
          ],
          "name": "stdout"
        }
      ]
    },
    {
      "cell_type": "code",
      "metadata": {
        "colab": {
          "base_uri": "https://localhost:8080/"
        },
        "id": "WGL4BMEd9hj9",
        "outputId": "1d0fc636-3a7f-4c86-d684-35c245fe836d"
      },
      "source": [
        "#Question 9\n",
        "#Designer Door Mat\n",
        "s = \".|.\"\n",
        "l = list(map(int, input().split()))\n",
        "for j in range(3, int(l[1]), 6):\n",
        "  w = s * int(j / 3)\n",
        "  print(w.center(int(l[1]), '-'))\n",
        "print(\"WELCOME\".center(int(l[1]), '-'))\n",
        "for j in range(int(l[1]) - 6, 2, -6):\n",
        "  w = s * int(j /3)\n",
        "  print(w.center(int(l[1]), '-'))"
      ],
      "execution_count": null,
      "outputs": [
        {
          "output_type": "stream",
          "text": [
            "11 33\n",
            "---------------.|.---------------\n",
            "------------.|..|..|.------------\n",
            "---------.|..|..|..|..|.---------\n",
            "------.|..|..|..|..|..|..|.------\n",
            "---.|..|..|..|..|..|..|..|..|.---\n",
            "-------------WELCOME-------------\n",
            "---.|..|..|..|..|..|..|..|..|.---\n",
            "------.|..|..|..|..|..|..|.------\n",
            "---------.|..|..|..|..|.---------\n",
            "------------.|..|..|.------------\n",
            "---------------.|.---------------\n"
          ],
          "name": "stdout"
        }
      ]
    },
    {
      "cell_type": "code",
      "metadata": {
        "colab": {
          "base_uri": "https://localhost:8080/"
        },
        "id": "p0liEXg7-7ws",
        "outputId": "d368adb1-889e-4ddb-e3ce-0bebcc916555"
      },
      "source": [
        "#Question 10\n",
        "#String Formatting\n",
        "n = int(input())\n",
        "w = len(bin(n)[2:]) + 1\n",
        "for i in range(1, n+1):\n",
        "        print(f'{str(i).rjust(len(str(n)))}{str(oct(i)[2:]).rjust(w, \" \")}{str(hex(i)[2:].upper()).rjust(w, \" \")}{str(bin(i)[2:]).rjust(w, \" \")}')"
      ],
      "execution_count": null,
      "outputs": [
        {
          "output_type": "stream",
          "text": [
            "17\n",
            " 1     1     1     1\n",
            " 2     2     2    10\n",
            " 3     3     3    11\n",
            " 4     4     4   100\n",
            " 5     5     5   101\n",
            " 6     6     6   110\n",
            " 7     7     7   111\n",
            " 8    10     8  1000\n",
            " 9    11     9  1001\n",
            "10    12     A  1010\n",
            "11    13     B  1011\n",
            "12    14     C  1100\n",
            "13    15     D  1101\n",
            "14    16     E  1110\n",
            "15    17     F  1111\n",
            "16    20    10 10000\n",
            "17    21    11 10001\n"
          ],
          "name": "stdout"
        }
      ]
    },
    {
      "cell_type": "code",
      "metadata": {
        "id": "PXrBUj_kSc-j",
        "colab": {
          "base_uri": "https://localhost:8080/"
        },
        "outputId": "fc40b54e-864f-4712-e53b-282cbf02a94c"
      },
      "source": [
        "#Question 11\n",
        "#Alphabet Rangoli\n",
        "a = []\n",
        "n = int(input())\n",
        "for i in range(1,n+1):\n",
        "    s = '-'*(2*(n-i))\n",
        "    l = []\n",
        "    for j in range(0,i):\n",
        "        l.append(chr(ord('a')+n-1-j))\n",
        "    s = s + '-'.join(l)\n",
        "    s = s + s[:-1][::-1]\n",
        "    a.append(s)\n",
        "a = a + a[:-1][::-1]\n",
        "for i in a:\n",
        "    print(i)"
      ],
      "execution_count": 4,
      "outputs": [
        {
          "output_type": "stream",
          "text": [
            "5\n",
            "--------e--------\n",
            "------e-d-e------\n",
            "----e-d-c-d-e----\n",
            "--e-d-c-b-c-d-e--\n",
            "e-d-c-b-a-b-c-d-e\n",
            "--e-d-c-b-c-d-e--\n",
            "----e-d-c-d-e----\n",
            "------e-d-e------\n",
            "--------e--------\n"
          ],
          "name": "stdout"
        }
      ]
    },
    {
      "cell_type": "code",
      "metadata": {
        "colab": {
          "base_uri": "https://localhost:8080/"
        },
        "id": "j7sJRhYbSnkD",
        "outputId": "ca66c898-2bbf-4f97-ed85-d69013006fed"
      },
      "source": [
        "#Question 12\n",
        "#Capitalize!\n",
        "n = list(map(str, input().split(\" \")))\n",
        "arr = []\n",
        "for i in n:\n",
        "  arr.append(i.capitalize())\n",
        "print(' '.join(arr))"
      ],
      "execution_count": null,
      "outputs": [
        {
          "output_type": "stream",
          "text": [
            "chris alan\n",
            "Chris Alan\n"
          ],
          "name": "stdout"
        }
      ]
    },
    {
      "cell_type": "code",
      "metadata": {
        "id": "K82KTJrgS6fC",
        "colab": {
          "base_uri": "https://localhost:8080/"
        },
        "outputId": "0e2e7a1a-5e01-476d-8377-178a2208e311"
      },
      "source": [
        "#Question 13\n",
        "#The Minion Game\n",
        "n = input()\n",
        "vowels = [\"A\", \"E\", \"I\", \"O\", \"U\"]\n",
        "scores = [0,0]\n",
        "l = len(n)\n",
        "for i in range(0, l):\n",
        "    word_number = l - i\n",
        "    if n[i] in vowels:\n",
        "        scores[1] += word_number\n",
        "    else:\n",
        "        scores[0] += word_number\n",
        "if scores[0] > scores[1]:\n",
        "    print(\"Stuart\", scores[0])\n",
        "elif scores[0] < scores[1]:    \n",
        "    print(\"Kevin\", scores[1])\n",
        "else:\n",
        "    print(\"Draw\")"
      ],
      "execution_count": 3,
      "outputs": [
        {
          "output_type": "stream",
          "text": [
            "BANANA\n",
            "Stuart 12\n"
          ],
          "name": "stdout"
        }
      ]
    },
    {
      "cell_type": "code",
      "metadata": {
        "colab": {
          "base_uri": "https://localhost:8080/"
        },
        "id": "S6OjH3gGWvE2",
        "outputId": "6bce8877-77b7-4563-c402-6aec59609653"
      },
      "source": [
        "#Question 14\n",
        "#Merge the Tools!\n",
        "n = input()\n",
        "k = int(input())\n",
        "val = []\n",
        "for i in range(0, len(n), k):\n",
        "  val.append(n[i:i+k])\n",
        "for i in val:\n",
        "  arr = []\n",
        "  for j in i:\n",
        "    if j not in arr:\n",
        "      arr.append(j)\n",
        "  print(''.join(arr))"
      ],
      "execution_count": null,
      "outputs": [
        {
          "output_type": "stream",
          "text": [
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n",
            "500\n",
            "PHGQRDYOSZIUBTMXWVFNALCKJE\n",
            "WXKGHAZPDYVIBNSTEMLUQRCJFO\n",
            "JCHRWUZNYKFLMPOAEBIGDQXSTV\n",
            "DOAYUEXNJFLSQIBVCPGZMRHWKT\n",
            "WMPTJGDBRCYFNKZHOSLEXQVAUI\n",
            "XEWYUJCKMLQVTNGBPAZIOSHDRF\n",
            "XIJYGUMVBCQOSNLFKERHDWTZAP\n",
            "ZDIXOUBFLACWNHPYJVEMSRTGQK\n",
            "QBIDGZSUNTRKPYHAFVJELXWMCO\n",
            "IFLYWQNHXPRMTKOZVUSEJADGBC\n",
            "UXZRYQESFVKHCBOMWTGDLJAIPN\n",
            "IPJHWENVUORXMKCZGFSDBAQLYT\n",
            "ICJNULWGTQKYEBDAOVMHFRSZXP\n",
            "ABFDEXTVQYCPHWGNJKOMISLRUZ\n",
            "FNEPBKXVOYDMTURZCHWLIQJGSA\n",
            "FJNHLGCPDTXMOIKEBQSAUVRWYZ\n",
            "DRWPITGNHBLUKXOJCMFZSVEQYA\n",
            "XAIJLDSMRBQOFUKWVTHZPECNGY\n",
            "MYDVQTAWSJZHEIOPNCULFXGKRB\n",
            "ZAKITXFMCBGSUQLDRWVOHPJENY\n"
          ],
          "name": "stdout"
        }
      ]
    }
  ]
}