{
  "nbformat": 4,
  "nbformat_minor": 0,
  "metadata": {
    "colab": {
      "name": "Task - 3 (Python Programming).ipynb",
      "provenance": [],
      "collapsed_sections": []
    },
    "kernelspec": {
      "name": "python3",
      "display_name": "Python 3"
    },
    "language_info": {
      "name": "python"
    }
  },
  "cells": [
    {
      "cell_type": "code",
      "metadata": {
        "id": "QV1dFvmS6DOz",
        "colab": {
          "base_uri": "https://localhost:8080/"
        },
        "outputId": "45a9f74c-3141-4714-b325-b7c88832ebce"
      },
      "source": [
        "#Question 1\n",
        "#Polar Coordinates\n",
        "import cmath\n",
        "n = input()\n",
        "c = complex(n)\n",
        "print(abs(c))\n",
        "print(cmath.phase(c))"
      ],
      "execution_count": null,
      "outputs": [
        {
          "output_type": "stream",
          "text": [
            "1+2j\n",
            "2.23606797749979\n",
            "1.1071487177940904\n"
          ],
          "name": "stdout"
        }
      ]
    },
    {
      "cell_type": "code",
      "metadata": {
        "id": "hJmOWXpyEEqL",
        "colab": {
          "base_uri": "https://localhost:8080/"
        },
        "outputId": "a66d05df-56fb-413d-ff64-0bb398b15766"
      },
      "source": [
        "#Question 2\n",
        "#Find Angle MBC\n",
        "import math\n",
        "ab = input()\n",
        "bc = input()\n",
        "ab, bc = int(ab), int(bc)\n",
        "acb = math.degrees(math.atan(ab / bc))\n",
        "m = 90 - acb\n",
        "mbc = 90 - m\n",
        "print(f'{mbc:.0f}{chr(176)}')"
      ],
      "execution_count": 19,
      "outputs": [
        {
          "output_type": "stream",
          "text": [
            "10\n",
            "10\n",
            "45°\n"
          ],
          "name": "stdout"
        }
      ]
    },
    {
      "cell_type": "code",
      "metadata": {
        "colab": {
          "base_uri": "https://localhost:8080/"
        },
        "id": "Z3BlzWAvKQnT",
        "outputId": "08c3ca7d-2f45-45ae-adfb-94a4eb71638a"
      },
      "source": [
        "#Question 3\n",
        "#Triangle Quest 2\n",
        "n = input()\n",
        "n = int(n)\n",
        "a = []\n",
        "for i in range(1, n+1):\n",
        "  for i in range(1,i+1):\n",
        "    a.append(str(i))\n",
        "  for i in range(i-1, 0, -1):\n",
        "    a.append(str(i))\n",
        "  a.append('\\n')\n",
        "print(''.join(a))"
      ],
      "execution_count": null,
      "outputs": [
        {
          "output_type": "stream",
          "text": [
            "5\n",
            "1\n",
            "121\n",
            "12321\n",
            "1234321\n",
            "123454321\n",
            "\n"
          ],
          "name": "stdout"
        }
      ]
    },
    {
      "cell_type": "code",
      "metadata": {
        "id": "b-LnaMI7LDe4",
        "colab": {
          "base_uri": "https://localhost:8080/"
        },
        "outputId": "23b1e168-2148-4742-c832-712d6acdddd3"
      },
      "source": [
        "#Question 4\n",
        "#Mod Divmod\n",
        "a = input()\n",
        "b = input()\n",
        "a, b = int(a), int(b)\n",
        "print(a//b)\n",
        "print(a%b)\n",
        "print(divmod(a, b))"
      ],
      "execution_count": 1,
      "outputs": [
        {
          "output_type": "stream",
          "text": [
            "177\n",
            "10\n",
            "17\n",
            "7\n",
            "(17, 7)\n"
          ],
          "name": "stdout"
        }
      ]
    },
    {
      "cell_type": "code",
      "metadata": {
        "colab": {
          "base_uri": "https://localhost:8080/"
        },
        "id": "asv__38puC1F",
        "outputId": "372eff36-779a-4ef6-e118-59509dba73d9"
      },
      "source": [
        "#Question 5\n",
        "#Power - Mod Power\n",
        "a = input()\n",
        "b = input()\n",
        "m = input()\n",
        "a, b, m = int(a), int(b), int(m)\n",
        "print(pow(a, b))\n",
        "print(pow(a, b, m))"
      ],
      "execution_count": 2,
      "outputs": [
        {
          "output_type": "stream",
          "text": [
            "3\n",
            "4\n",
            "5\n",
            "81\n",
            "1\n"
          ],
          "name": "stdout"
        }
      ]
    },
    {
      "cell_type": "code",
      "metadata": {
        "colab": {
          "base_uri": "https://localhost:8080/"
        },
        "id": "wrpD7Cxtue7u",
        "outputId": "9095a985-70c5-437c-c699-9db79782c9f2"
      },
      "source": [
        "#Question 6\n",
        "#Integers Come In All Sizes\n",
        "a = input()\n",
        "b = input()\n",
        "c = input()\n",
        "d = input()\n",
        "a, b, c, d = float(a), float(b), float(c), float(d)\n",
        "a1 = pow(a, b) \n",
        "b1 = pow(c, d)\n",
        "res = a1 + b1\n",
        "print(f'{res:.0f}')"
      ],
      "execution_count": 8,
      "outputs": [
        {
          "output_type": "stream",
          "text": [
            "9\n",
            "29\n",
            "7\n",
            "27\n",
            "4710194409608608302099333120\n"
          ],
          "name": "stdout"
        }
      ]
    },
    {
      "cell_type": "code",
      "metadata": {
        "colab": {
          "base_uri": "https://localhost:8080/"
        },
        "id": "FhBo07ZYvIUf",
        "outputId": "e5052600-d61a-40a0-fece-a128fddc96b8"
      },
      "source": [
        "#Question 7\n",
        "#Triangle Quest\n",
        "n = input()\n",
        "n = int(n)\n",
        "for i in range(1, n):\n",
        "  for _ in range(1, i+1):\n",
        "    print(i, end = '')\n",
        "  print('', end = '\\n')"
      ],
      "execution_count": 11,
      "outputs": [
        {
          "output_type": "stream",
          "text": [
            "5\n",
            "1\n",
            "22\n",
            "333\n",
            "4444\n"
          ],
          "name": "stdout"
        }
      ]
    }
  ]
}