{
  "nbformat": 4,
  "nbformat_minor": 0,
  "metadata": {
    "colab": {
      "name": "Task - 5 (Python Programming).ipynb",
      "provenance": [],
      "collapsed_sections": []
    },
    "kernelspec": {
      "name": "python3",
      "display_name": "Python 3"
    },
    "language_info": {
      "name": "python"
    }
  },
  "cells": [
    {
      "cell_type": "code",
      "metadata": {
        "colab": {
          "base_uri": "https://localhost:8080/"
        },
        "id": "KTi6MFp41060",
        "outputId": "6f3313fc-ad99-4f1a-aa52-f115790c8da6"
      },
      "source": [
        "#Question 1\n",
        "#Detect Floating Point Number\n",
        "import re\n",
        "n = int(input())\n",
        "for i in range(n):\n",
        "  a = input()\n",
        "  sign = re.findall(r'[.]{1}', a)\n",
        "  s = re.findall(r'^[+-]?\\d*[.]\\d{1,}', a)\n",
        "  if len(sign) == 1 and len(s) == 1 and s[0] == a:\n",
        "    print(True)\n",
        "  else:\n",
        "    print(False)"
      ],
      "execution_count": null,
      "outputs": [
        {
          "output_type": "stream",
          "text": [
            "4\n",
            "4.0O0\n",
            "False\n",
            "-1.00\n",
            "True\n",
            "+4.54\n",
            "True\n",
            "SomeRandomStuff\n",
            "False\n"
          ],
          "name": "stdout"
        }
      ]
    },
    {
      "cell_type": "code",
      "metadata": {
        "id": "OogJyuBd2XFd",
        "colab": {
          "base_uri": "https://localhost:8080/"
        },
        "outputId": "4642ad3e-2b27-46da-b330-790e8345ebe0"
      },
      "source": [
        "#Question 2\n",
        "#Re.split()\n",
        "import re\n",
        "n = input()\n",
        "s = re.split(r'[,.]', n)\n",
        "for i in s:\n",
        "  print(i)"
      ],
      "execution_count": null,
      "outputs": [
        {
          "output_type": "stream",
          "text": [
            "100,000,000.000\n",
            "100\n",
            "000\n",
            "000\n",
            "000\n"
          ],
          "name": "stdout"
        }
      ]
    },
    {
      "cell_type": "code",
      "metadata": {
        "colab": {
          "base_uri": "https://localhost:8080/"
        },
        "id": "w4LaIkDtMsNH",
        "outputId": "07363c00-baa6-4cf2-da61-19da9e24e96c"
      },
      "source": [
        "#Question 3\n",
        "#Group(), Groups() & Groupdict()\n",
        "import re\n",
        "n = input()\n",
        "s = re.findall(r'[a-zA-Z0-9]+', n)\n",
        "found = False\n",
        "for i in s[0]:\n",
        "  patter = f\"[{i}]{{2,}}\"\n",
        "  reg = re.compile(patter)\n",
        "  a = re.findall(reg, s[0])\n",
        "  if len(a) >= 1:\n",
        "    found = True\n",
        "    print(i)\n",
        "    break\n",
        "if found == False:\n",
        "  print(-1)"
      ],
      "execution_count": null,
      "outputs": [
        {
          "output_type": "stream",
          "text": [
            "12345678910111213141516171820212223\n",
            "1\n"
          ],
          "name": "stdout"
        }
      ]
    },
    {
      "cell_type": "code",
      "metadata": {
        "colab": {
          "base_uri": "https://localhost:8080/"
        },
        "id": "AWw_CCDVNhsM",
        "outputId": "5d661e05-7034-465b-cceb-cf654439deaf"
      },
      "source": [
        "#Question 4\n",
        "#Re.findall() & Re.finditer()\n",
        "import re\n",
        "n = input()\n",
        "a = re.findall('(?=([^aeiou])([aeiou]{2,})([^aeiou]))', n, re.I)\n",
        "if a:\n",
        "  for i in a:\n",
        "      print(i[1])\n",
        "else:\n",
        "    print(-1)"
      ],
      "execution_count": null,
      "outputs": [
        {
          "output_type": "stream",
          "text": [
            "abaabaabaabaae\n",
            "aa\n",
            "aa\n",
            "aa\n"
          ],
          "name": "stdout"
        }
      ]
    },
    {
      "cell_type": "code",
      "metadata": {
        "colab": {
          "base_uri": "https://localhost:8080/"
        },
        "id": "slYvQgF_N4Hb",
        "outputId": "42e4c95a-8ad3-4a5e-f527-a674a09c91ac"
      },
      "source": [
        "#Question 5\n",
        "#Re.start() & Re.end()\n",
        "import re\n",
        "a = str(input())\n",
        "b = str(input())\n",
        "b = re.compile(b)\n",
        "x = b.search(a)\n",
        "if(x):\n",
        "    while x:\n",
        "        print(tuple([x.start(),x.end()-1]))\n",
        "        x = b.search(a,x.start() + 1)\n",
        "else:\n",
        "    print(tuple([-1,-1]))"
      ],
      "execution_count": 4,
      "outputs": [
        {
          "output_type": "stream",
          "text": [
            "aaadaa\n",
            "aa\n",
            "(0, 1)\n",
            "(1, 2)\n",
            "(4, 5)\n"
          ],
          "name": "stdout"
        }
      ]
    },
    {
      "cell_type": "code",
      "metadata": {
        "colab": {
          "base_uri": "https://localhost:8080/"
        },
        "id": "Rbfc0H2MewLT",
        "outputId": "60a8ce57-9a1c-47fd-9467-99f49ab5f389"
      },
      "source": [
        "#Question 6\n",
        "#Regex Substitution\n",
        "import re\n",
        "def char(match):\n",
        "    if(str(match.group(0))=='&&'):\n",
        "        return 'and'\n",
        "    if(str(match.group(0))=='||'):\n",
        "        return 'or'\n",
        "n = int(input())\n",
        "for _ in range(n):\n",
        "    print(re.sub(\"(?<= )(&&|\\|\\||)(?= )\", char, str(input()))) "
      ],
      "execution_count": 1,
      "outputs": [
        {
          "output_type": "stream",
          "text": [
            "11\n",
            "a = 1;\n",
            "a = 1;\n",
            "b = input();\n",
            "b = input();\n",
            "\n",
            "\n",
            "if a + b > 0 && a - b < 0:\n",
            "if a + b > 0 and a - b < 0:\n",
            "    start()\n",
            "    start()\n",
            "elif a*b > 10 || a/b < 1:\n",
            "elif a*b > 10 or a/b < 1:\n",
            "    stop()\n",
            "    stop()\n",
            "print set(list(a)) | set(list(b)) \n",
            "print set(list(a)) | set(list(b)) \n",
            "#Note do not change &&& or ||| or & or |\n",
            "#Note do not change &&& or ||| or & or |\n",
            "#Only change those '&&' which have space on both sides.\n",
            "#Only change those '&&' which have space on both sides.\n",
            "#Only change those '|| which have space on both sides.\n",
            "#Only change those '|| which have space on both sides.\n"
          ],
          "name": "stdout"
        }
      ]
    },
    {
      "cell_type": "code",
      "metadata": {
        "id": "7psfwksvnt4i",
        "colab": {
          "base_uri": "https://localhost:8080/"
        },
        "outputId": "7a4282d6-b418-4346-f935-01a19fe09315"
      },
      "source": [
        "#Question 7\n",
        "#Validating Roman Numerals\n",
        "import re\n",
        "t = 'M{0,3}'\n",
        "h = '(C[MD]|D?C{0,3})'\n",
        "ten = '(X[CL]|L?X{0,3})'\n",
        "d = '(I[VX]|V?I{0,3})'\n",
        "reg= t+h+ten+d+'$'\n",
        "print(str(bool(re.match(reg, input()))))"
      ],
      "execution_count": 15,
      "outputs": [
        {
          "output_type": "stream",
          "text": [
            "CDXXI\n",
            "True\n"
          ],
          "name": "stdout"
        }
      ]
    },
    {
      "cell_type": "code",
      "metadata": {
        "colab": {
          "base_uri": "https://localhost:8080/"
        },
        "id": "znEt2svjFEuQ",
        "outputId": "b3bb08d2-cc82-441f-a6f9-24d8f6f64290"
      },
      "source": [
        "#Question 8\n",
        "#Validating phone numbers\n",
        "import re\n",
        "n = int(input())\n",
        "for _ in range(n):\n",
        "    x = input()\n",
        "    if(re.match(r'[789]\\d{9}$',x)):\n",
        "        print('YES')\n",
        "    else:\n",
        "        print('NO')"
      ],
      "execution_count": 2,
      "outputs": [
        {
          "output_type": "stream",
          "text": [
            "2\n",
            "9587456281\n",
            "YES\n",
            "1252478965\n",
            "NO\n"
          ],
          "name": "stdout"
        }
      ]
    },
    {
      "cell_type": "code",
      "metadata": {
        "colab": {
          "base_uri": "https://localhost:8080/"
        },
        "id": "0b1VAnHuFIIW",
        "outputId": "9825dfea-1a88-4733-efc7-ffab1b4eca11"
      },
      "source": [
        "#Question 9\n",
        "#Validating and parsing email addresses\n",
        "import re\n",
        "n = int(input())\n",
        "for _ in range(n):\n",
        "    name,email = input().split()\n",
        "    ans = re.match(r'<[A-Za-z](\\w|-|\\.|_)+@[A-Za-z]+\\.[A-Za-z]{1,3}>',email)\n",
        "    if(ans):\n",
        "        print(name+' '+email)"
      ],
      "execution_count": 3,
      "outputs": [
        {
          "output_type": "stream",
          "text": [
            "2\n",
            "DEXTER <dexter@hotmail.com>\n",
            "DEXTER <dexter@hotmail.com>\n",
            "VIRUS <virus!@variable.:p>\n"
          ],
          "name": "stdout"
        }
      ]
    },
    {
      "cell_type": "code",
      "metadata": {
        "colab": {
          "base_uri": "https://localhost:8080/"
        },
        "id": "CeI-RxWaFsmn",
        "outputId": "3b7bbec6-2bdc-4e1a-b1b5-56c08bb4fe15"
      },
      "source": [
        "#Question 10\n",
        "#Hex Color Code\n",
        "import re\n",
        "n = int(input())\n",
        "for _ in range(n):\n",
        "    txt  =  str(input())\n",
        "    mat = re.findall('[\\s:](#[a-f0-9]{6}|#[a-f0-9]{3})',txt,re.I)\n",
        "    for i in mat:\n",
        "        if(i):\n",
        "            print(i)"
      ],
      "execution_count": 6,
      "outputs": [
        {
          "output_type": "stream",
          "text": [
            "11\n",
            "#BED\n",
            "{\n",
            "    color: #FfFdF8; background-color:#aef;\n",
            "#FfFdF8\n",
            "#aef\n",
            "    font-size: 123px;\n",
            "    background: -webkit-linear-gradient(top, #f9f9f9, #fff);\n",
            "#f9f9f9\n",
            "#fff\n",
            "}\n",
            "#Cab\n",
            "{\n",
            "    background-color: #ABC;\n",
            "#ABC\n",
            "    border: 2px dashed #fff;\n",
            "#fff\n",
            "}\n"
          ],
          "name": "stdout"
        }
      ]
    },
    {
      "cell_type": "code",
      "metadata": {
        "colab": {
          "base_uri": "https://localhost:8080/"
        },
        "id": "X-90PF8zFssi",
        "outputId": "c0b5a518-63e4-45ca-8d54-732608a3bde9"
      },
      "source": [
        "#Question 11\n",
        "#HTML Parser - Part 1\n",
        "from html.parser import HTMLParser\n",
        "class MyHTMLParser(HTMLParser):\n",
        "    def handle_starttag(self, tag, attrs):        \n",
        "        print ('Start :',tag)\n",
        "        for i in attrs:\n",
        "            print ('->',i[0],'>',i[1]) \n",
        "    def handle_endtag(self, tag):\n",
        "        print ('End   :',tag)    \n",
        "    def handle_startendtag(self, tag, attrs):\n",
        "        print ('Empty :',tag)\n",
        "        for i in attrs:\n",
        "            print ('->',i[0],'>',i[1])  \n",
        "parser = MyHTMLParser()\n",
        "n = int(input())\n",
        "for _ in range(n):\n",
        "    parser.feed(input())"
      ],
      "execution_count": 7,
      "outputs": [
        {
          "output_type": "stream",
          "text": [
            "2\n",
            "<html><head><title>HTML Parser - I</title></head>\n",
            "Start : html\n",
            "Start : head\n",
            "Start : title\n",
            "End   : title\n",
            "End   : head\n",
            "<body data-modal-target class='1'><h1>HackerRank</h1><br /></body></html>\n",
            "Start : body\n",
            "-> data-modal-target > None\n",
            "-> class > 1\n",
            "Start : h1\n",
            "End   : h1\n",
            "Empty : br\n",
            "End   : body\n",
            "End   : html\n"
          ],
          "name": "stdout"
        }
      ]
    },
    {
      "cell_type": "code",
      "metadata": {
        "colab": {
          "base_uri": "https://localhost:8080/"
        },
        "id": "yxG32SFvFsys",
        "outputId": "175e860f-4698-4ac3-fa50-028c7f66584f"
      },
      "source": [
        "#Question 12\n",
        "#HTML Parser - Part 2\n",
        "from html.parser import HTMLParser\n",
        "class MyHTMLParser(HTMLParser):\n",
        "    def handle_comment(self, cmt):\n",
        "        if '\\n' in cmt:\n",
        "            print('>>> Multi-line Comment')\n",
        "        else:\n",
        "            print('>>> Single-line Comment')\n",
        "        print(cmt)\n",
        "    def handle_data(self, data):\n",
        "        if data!='\\n':\n",
        "            print(\">>> Data\")\n",
        "            print(data)\n",
        "html = \"\"       \n",
        "for i in range(int(input())):\n",
        "    html += input().rstrip()\n",
        "    html += '\\n'\n",
        "parser = MyHTMLParser()\n",
        "parser.feed(html)\n",
        "parser.close()"
      ],
      "execution_count": 9,
      "outputs": [
        {
          "output_type": "stream",
          "text": [
            "4\n",
            "<!--[if IE 9]>IE9-specific content\n",
            "<![endif]-->\n",
            "<div> Welcome to HackerRank</div>\n",
            "<!--[if IE 9]>IE9-specific content<![endif]-->\n",
            ">>> Multi-line Comment\n",
            "[if IE 9]>IE9-specific content\n",
            "<![endif]\n",
            ">>> Data\n",
            " Welcome to HackerRank\n",
            ">>> Single-line Comment\n",
            "[if IE 9]>IE9-specific content<![endif]\n"
          ],
          "name": "stdout"
        }
      ]
    },
    {
      "cell_type": "code",
      "metadata": {
        "colab": {
          "base_uri": "https://localhost:8080/"
        },
        "id": "RQpGpxuJFs3O",
        "outputId": "39aa636b-0d35-43af-dcbb-a2bfed1133fb"
      },
      "source": [
        "#Question 13\n",
        "#Detect HTML Tags, Attributes and Attribute Values\n",
        "from html.parser import HTMLParser\n",
        "class MyHTMLParser(HTMLParser):\n",
        "    def handle_starttag(self, tag, attrs):        \n",
        "        print (tag)\n",
        "        for i in attrs:\n",
        "            print ('->',i[0],'>',i[1])\n",
        "    def handle_startendtag(self, tag, attrs):\n",
        "        print (tag)\n",
        "        for i in attrs:\n",
        "            print ('->',i[0],'>',i[1])  \n",
        "parser = MyHTMLParser()\n",
        "n = int(input())\n",
        "for _ in range(n):\n",
        "    parser.feed(input())"
      ],
      "execution_count": 10,
      "outputs": [
        {
          "output_type": "stream",
          "text": [
            "9\n",
            "<head>\n",
            "head\n",
            "<title>HTML</title>\n",
            "title\n",
            "</head>\n",
            "<object type=\"application/x-flash\" \n",
            "  data=\"your-file.swf\" \n",
            "  width=\"0\" height=\"0\">\n",
            "object\n",
            "-> type > application/x-flash\n",
            "-> data > your-file.swf\n",
            "-> width > 0\n",
            "-> height > 0\n",
            "  <!-- <param name=\"movie\" value=\"your-file.swf\" /> -->\n",
            "  <param name=\"quality\" value=\"high\"/>\n",
            "param\n",
            "-> name > quality\n",
            "-> value > high\n",
            "</object>\n"
          ],
          "name": "stdout"
        }
      ]
    },
    {
      "cell_type": "code",
      "metadata": {
        "colab": {
          "base_uri": "https://localhost:8080/"
        },
        "id": "NYN5eMBHFs8G",
        "outputId": "dac35a4a-f4a3-45cd-efbc-81ba3cce418a"
      },
      "source": [
        "#Question 14\n",
        "#Validating UID\n",
        "import re\n",
        "for i in range(int(input())):\n",
        "    s = input()\n",
        "    if all([re.search(r, s) \n",
        "    for r in [r'[A-Za-z0-9]{10}',r'([A-Z].*){2}',r'([0-9].*){3}']]) and not re.search(r'.*(.).*\\1', s):\n",
        "        print('Valid')\n",
        "    else:\n",
        "        print('Invalid')"
      ],
      "execution_count": 11,
      "outputs": [
        {
          "output_type": "stream",
          "text": [
            "2\n",
            "B1CD102354\n",
            "Invalid\n",
            "B1CDEF2354\n",
            "Valid\n"
          ],
          "name": "stdout"
        }
      ]
    },
    {
      "cell_type": "code",
      "metadata": {
        "colab": {
          "base_uri": "https://localhost:8080/"
        },
        "id": "0u1tt0DzGTM5",
        "outputId": "1eac55de-dbb9-485d-88cb-54199b059cb4"
      },
      "source": [
        "#Question 15\n",
        "#Validating Credit Card Number\n",
        "import re\n",
        "n = int(input())\n",
        "cn = re.compile(\n",
        "    r\"^\"\n",
        "    r\"(?!.*(\\d)(-?\\1){3})\"\n",
        "    r\"[456]\"\n",
        "    r\"\\d{3}\"\n",
        "    r\"(?:-?\\d{4}){3}\"\n",
        "    r\"$\")\n",
        "for _ in range(n):\n",
        "    x = input().strip()\n",
        "    if cn.search(x):\n",
        "        print('Valid')\n",
        "    else:\n",
        "        print(\"Invalid\")"
      ],
      "execution_count": 12,
      "outputs": [
        {
          "output_type": "stream",
          "text": [
            "6\n",
            "4123456789123456\n",
            "Valid\n",
            "5123-4567-8912-3456\n",
            "Valid\n",
            "61234-567-8912-3456\n",
            "Invalid\n",
            "4123356789123456\n",
            "Valid\n",
            "5133-3367-8912-3456\n",
            "Invalid\n",
            "5123 - 3567 - 8912 - 3456\n",
            "Invalid\n"
          ],
          "name": "stdout"
        }
      ]
    },
    {
      "cell_type": "code",
      "metadata": {
        "colab": {
          "base_uri": "https://localhost:8080/"
        },
        "id": "bUZXlGWFGTTb",
        "outputId": "868b6863-e1ae-47a8-9109-b74ad4d72611"
      },
      "source": [
        "#Question 16\n",
        "#Validating Postal Codes\n",
        "reg_integer = r\"^[1-9][0-9]{5}$\"\n",
        "reg_alt_rep = r\"(\\d)(?=.\\1)\"\n",
        "import re\n",
        "n = input()\n",
        "print(bool(re.match(reg_integer, n)) and len(re.findall(reg_alt_rep, n)) < 2)"
      ],
      "execution_count": 13,
      "outputs": [
        {
          "output_type": "stream",
          "text": [
            "110000\n",
            "False\n"
          ],
          "name": "stdout"
        }
      ]
    },
    {
      "cell_type": "code",
      "metadata": {
        "colab": {
          "base_uri": "https://localhost:8080/"
        },
        "id": "E2O_BT3jGTkL",
        "outputId": "077a6871-645f-4acb-fc6f-426c1cd2f473"
      },
      "source": [
        "#Question 17\n",
        "#Matrix Script\n",
        "import re\n",
        "first = input().rstrip().split()\n",
        "n = int(first[0])\n",
        "m = int(first[1])\n",
        "matrix = []\n",
        "for i in range(n):\n",
        "    matrix_item = input()\n",
        "    matrix.append(matrix_item)\n",
        "es = \"\".join([matrix[j][i] for i in range(m) for j in range(n)])\n",
        "x = r'(?<=[a-zA-Z0-9])[^a-zA-Z0-9]+(?=[a-zA-Z0-9])'\n",
        "print(re.sub(x,' ',es))"
      ],
      "execution_count": 14,
      "outputs": [
        {
          "output_type": "stream",
          "text": [
            "7 3\n",
            "Tsi\n",
            "h%x\n",
            "i #\n",
            "sM \n",
            "$a \n",
            "#t%\n",
            "ir!\n",
            "This is Matrix#  %!\n"
          ],
          "name": "stdout"
        }
      ]
    }
  ]
}