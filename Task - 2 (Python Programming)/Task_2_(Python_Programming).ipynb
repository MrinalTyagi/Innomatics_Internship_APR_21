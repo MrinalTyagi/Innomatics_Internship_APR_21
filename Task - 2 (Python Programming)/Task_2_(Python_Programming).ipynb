{
  "nbformat": 4,
  "nbformat_minor": 0,
  "metadata": {
    "colab": {
      "name": "Task - 2 (Python Programming).ipynb",
      "provenance": [],
      "collapsed_sections": []
    },
    "kernelspec": {
      "name": "python3",
      "display_name": "Python 3"
    },
    "language_info": {
      "name": "python"
    }
  },
  "cells": [
    {
      "cell_type": "code",
      "metadata": {
        "colab": {
          "base_uri": "https://localhost:8080/"
        },
        "id": "wRZtomxOfIvC",
        "outputId": "48133ace-55b0-46d3-b6ef-686a5ea60200"
      },
      "source": [
        "#Question 1\n",
        "#List Comprehensions\n",
        "x = input()\n",
        "y = input()\n",
        "z = input()\n",
        "n = input()\n",
        "x, y, z, n = int(x), int(y), int(z), int(n)\n",
        "print([[i, j, k] for i in range(0, x+1) for j in range(0, y+1) for k in range(0, z+1) if (i + j + k) != n])"
      ],
      "execution_count": null,
      "outputs": [
        {
          "output_type": "stream",
          "text": [
            "2\n",
            "2\n",
            "2\n",
            "2\n",
            "[[0, 0, 0], [0, 0, 1], [0, 1, 0], [0, 1, 2], [0, 2, 1], [0, 2, 2], [1, 0, 0], [1, 0, 2], [1, 1, 1], [1, 1, 2], [1, 2, 0], [1, 2, 1], [1, 2, 2], [2, 0, 1], [2, 0, 2], [2, 1, 0], [2, 1, 1], [2, 1, 2], [2, 2, 0], [2, 2, 1], [2, 2, 2]]\n"
          ],
          "name": "stdout"
        }
      ]
    },
    {
      "cell_type": "code",
      "metadata": {
        "colab": {
          "base_uri": "https://localhost:8080/"
        },
        "id": "2hKea_KkfwiR",
        "outputId": "b29795c5-aee9-485e-9145-99f03a2b2da2"
      },
      "source": [
        "#Question 2\n",
        "#Find the Runner-Up Score!\n",
        "n = input()\n",
        "n = int(n)\n",
        "a = map(int, input().split())\n",
        "a = set(a)\n",
        "a = list(a)\n",
        "a.remove(max(a))\n",
        "print(max(a))"
      ],
      "execution_count": null,
      "outputs": [
        {
          "output_type": "stream",
          "text": [
            "5\n",
            "2 3 6 6 5\n",
            "5\n"
          ],
          "name": "stdout"
        }
      ]
    },
    {
      "cell_type": "code",
      "metadata": {
        "colab": {
          "base_uri": "https://localhost:8080/"
        },
        "id": "Lyt_typ-h1UT",
        "outputId": "5885b939-d824-4209-f571-a946e85b94a1"
      },
      "source": [
        "#Question 3\n",
        "#Nested Lists\n",
        "n = input()\n",
        "n = int(n)\n",
        "names = []\n",
        "scores = []\n",
        "for i in range(0, n):\n",
        "  names.append(input())\n",
        "  score = input()\n",
        "  scores.append(float(score))\n",
        "low = set(scores)\n",
        "low = list(low)\n",
        "low.remove(min(low))\n",
        "sec = min(low)\n",
        "p = []\n",
        "for i in range(len(names)):\n",
        "  if scores[i] == sec:\n",
        "    p.append(names[i])\n",
        "p = sorted(p)\n",
        "for i in p:\n",
        "  print(i)"
      ],
      "execution_count": null,
      "outputs": [
        {
          "output_type": "stream",
          "text": [
            "5\n",
            "Harry\n",
            "37.21\n",
            "Berry\n",
            "37.21\n",
            "Tina\n",
            "37.2\n",
            "Akriti\n",
            "41\n",
            "Harsh\n",
            "39\n",
            "Berry\n",
            "Harry\n"
          ],
          "name": "stdout"
        }
      ]
    },
    {
      "cell_type": "code",
      "metadata": {
        "colab": {
          "base_uri": "https://localhost:8080/"
        },
        "id": "skBEZ6I9jf70",
        "outputId": "629b0c4e-dbe1-47c4-8123-bbf420256997"
      },
      "source": [
        "#Question 4\n",
        "#Finding the percentage\n",
        "n = input()\n",
        "n = int(n)\n",
        "student_marks = {}\n",
        "for i in range(n):\n",
        "  line = list(input().split())\n",
        "  name, scores = line[0], line[1:]\n",
        "  student_marks[name] = scores\n",
        "out = input()\n",
        "for key, value in student_marks.items():\n",
        "  if key == out:\n",
        "    avg = sum([float(i) for i in value]) / len(value)\n",
        "    print(\"{:.2f}\".format(avg))"
      ],
      "execution_count": null,
      "outputs": [
        {
          "output_type": "stream",
          "text": [
            "3\n",
            "Krishna 67 68 69\n",
            "Arjun 70 98 63\n",
            "Malika 52 56 60\n",
            "Malika\n",
            "56.00\n"
          ],
          "name": "stdout"
        }
      ]
    },
    {
      "cell_type": "code",
      "metadata": {
        "id": "2ET6Spyyn9nU",
        "colab": {
          "base_uri": "https://localhost:8080/"
        },
        "outputId": "2060fe7d-ad92-4be2-9a26-0843e23016b9"
      },
      "source": [
        "#Question 5\n",
        "#Lists\n",
        "n = input()\n",
        "n = int(n)\n",
        "arr = []\n",
        "for i in range(n):\n",
        "  a = list(input().split())\n",
        "  if a[0] == 'insert':\n",
        "    arr.insert(int(a[1]), int(a[2]))\n",
        "  elif a[0] == 'print':\n",
        "    print(arr)\n",
        "  elif a[0] == 'remove':\n",
        "    arr.remove(int(a[1]))\n",
        "  elif a[0] == 'append':\n",
        "    arr.append(int(a[1]))\n",
        "  elif a[0] == 'sort':\n",
        "    arr.sort()\n",
        "  elif a[0] == 'pop':\n",
        "    arr.pop()\n",
        "  elif a[0] == 'reverse':\n",
        "    arr.reverse()"
      ],
      "execution_count": 11,
      "outputs": [
        {
          "output_type": "stream",
          "text": [
            "12\n",
            "insert 0 5\n",
            "insert 1 10\n",
            "insert 0 6\n",
            "print\n",
            "[6, 5, 10]\n",
            "remove 6\n",
            "append 9\n",
            "append 1\n",
            "sort\n",
            "print\n",
            "[1, 5, 9, 10]\n",
            "pop\n",
            "reverse\n",
            "print\n",
            "[9, 5, 1]\n"
          ],
          "name": "stdout"
        }
      ]
    },
    {
      "cell_type": "code",
      "metadata": {
        "id": "wF1S6_aEfLQz",
        "colab": {
          "base_uri": "https://localhost:8080/"
        },
        "outputId": "3c61610f-4952-4c83-b7c7-aab9088aab8b"
      },
      "source": [
        "#Question 6\n",
        "#Tuples\n",
        "n = input()\n",
        "n = int(n)\n",
        "arr = tuple(map(int, input().split()))\n",
        "print(hash(arr))"
      ],
      "execution_count": 13,
      "outputs": [
        {
          "output_type": "stream",
          "text": [
            "2\n",
            "1 2\n",
            "3713081631934410656\n"
          ],
          "name": "stdout"
        }
      ]
    },
    {
      "cell_type": "code",
      "metadata": {
        "colab": {
          "base_uri": "https://localhost:8080/"
        },
        "id": "P3eDKEtmikGq",
        "outputId": "fcd46630-12ef-47b1-a608-8247b778e75e"
      },
      "source": [
        "#Question 7\n",
        "#Introduction to Sets\n",
        "n = input()\n",
        "n = int(n)\n",
        "arr = set(map(int, input().split()))\n",
        "avg = sum(list(arr)) / len(list(arr))\n",
        "print(\"%.3f\"%avg)"
      ],
      "execution_count": 15,
      "outputs": [
        {
          "output_type": "stream",
          "text": [
            "10\n",
            "161 182 161 154 176 170 167 171 170 174\n",
            "169.375\n"
          ],
          "name": "stdout"
        }
      ]
    },
    {
      "cell_type": "code",
      "metadata": {
        "colab": {
          "base_uri": "https://localhost:8080/"
        },
        "id": "Z5TJbFNJjcbI",
        "outputId": "c525b4ec-1905-4d6e-fb5d-89222eb2fc88"
      },
      "source": [
        "#Question 8\n",
        "#No Idea!\n",
        "arr = list(map(int, input().split()))\n",
        "n, m = arr[0], arr[1]\n",
        "ar = list(map(int, input().split()))\n",
        "a = list(map(int, input().split()))\n",
        "b = list(map(int, input().split()))\n",
        "c = [1 if i in a else -1 if i in b else 0 for i in ar]\n",
        "print(sum(c))"
      ],
      "execution_count": 26,
      "outputs": [
        {
          "output_type": "stream",
          "text": [
            "3 2\n",
            "1 5 3\n",
            "3 1\n",
            "5 7\n",
            "1\n"
          ],
          "name": "stdout"
        }
      ]
    },
    {
      "cell_type": "code",
      "metadata": {
        "colab": {
          "base_uri": "https://localhost:8080/"
        },
        "id": "hATOygSnk9Ng",
        "outputId": "54681e4f-c7ac-49e5-fd66-4fb2f319c287"
      },
      "source": [
        "#Question 9\n",
        "#Symmetric Difference\n",
        "m = input()\n",
        "m = int(m)\n",
        "arrm = set(map(int, input().split()))\n",
        "n = input()\n",
        "n = int(n)\n",
        "arrn = set(map(int, input().split()))\n",
        "r1 = list(arrm.difference(arrn))\n",
        "for i in arrn.difference(arrm):\n",
        "  r1.append(i)\n",
        "r1.sort()\n",
        "for i in r1:\n",
        "  print(i)"
      ],
      "execution_count": 31,
      "outputs": [
        {
          "output_type": "stream",
          "text": [
            "4\n",
            "2 4 5 9\n",
            "4\n",
            "2 4 11 12\n",
            "5\n",
            "9\n",
            "11\n",
            "12\n"
          ],
          "name": "stdout"
        }
      ]
    },
    {
      "cell_type": "code",
      "metadata": {
        "colab": {
          "base_uri": "https://localhost:8080/"
        },
        "id": "SHaOVAQSpGSR",
        "outputId": "fe1332fb-d60c-4a07-a489-dd7b8c38804b"
      },
      "source": [
        "#Question 10\n",
        "#Set .add()\n",
        "n = input()\n",
        "n = int(n)\n",
        "s = set()\n",
        "for _ in range(n):\n",
        "  i = input()\n",
        "  s.add(i)\n",
        "print(len(s))"
      ],
      "execution_count": 32,
      "outputs": [
        {
          "output_type": "stream",
          "text": [
            "7\n",
            "UK\n",
            "China\n",
            "USA\n",
            "France\n",
            "New Zealand\n",
            "UK\n",
            "France\n",
            "5\n"
          ],
          "name": "stdout"
        }
      ]
    },
    {
      "cell_type": "code",
      "metadata": {
        "colab": {
          "base_uri": "https://localhost:8080/"
        },
        "id": "yyLfBIM7qPpK",
        "outputId": "514cc2fa-d713-49cc-9198-a2521332893c"
      },
      "source": [
        "#Question 11\n",
        "#Set .discard(), .remove() & .pop()\n",
        "_ = input()\n",
        "s = set(map(int, input().split()))\n",
        "n = input()\n",
        "n = int(n)\n",
        "for i in range(n):\n",
        "  f = list(input().split())\n",
        "  if f[0] == 'pop':\n",
        "    s.pop()\n",
        "  elif f[0] == 'remove':\n",
        "    s.remove(int(f[1]))\n",
        "  elif f[0] == 'discard':\n",
        "    s.discard(int(f[1]))\n",
        "print(sum(s))"
      ],
      "execution_count": 34,
      "outputs": [
        {
          "output_type": "stream",
          "text": [
            "9\n",
            "1 2 3 4 5 6 7 8 9\n",
            "10\n",
            "pop\n",
            "remove 9\n",
            "discard 9\n",
            "discard 8\n",
            "remove 7\n",
            "pop\n",
            "discard 6\n",
            "remove 5\n",
            "pop\n",
            "discard 5\n",
            "4\n"
          ],
          "name": "stdout"
        }
      ]
    },
    {
      "cell_type": "code",
      "metadata": {
        "colab": {
          "base_uri": "https://localhost:8080/"
        },
        "id": "kAHv2qaerap6",
        "outputId": "ed13c130-86be-450e-819a-0c8604754988"
      },
      "source": [
        "#Question 12\n",
        "#Set .union() Operation\n",
        "_ = input()\n",
        "arrn = set(map(int, input().split()))\n",
        "_ = input()\n",
        "arrb = set(map(int, input().split()))\n",
        "r = arrn.union(arrb)\n",
        "print(len(r))"
      ],
      "execution_count": 37,
      "outputs": [
        {
          "output_type": "stream",
          "text": [
            "9\n",
            "1 2 3 4 5 6 7 8 9\n",
            "9\n",
            "10 1 2 3 11 21 55 6 8\n",
            "13\n"
          ],
          "name": "stdout"
        }
      ]
    },
    {
      "cell_type": "code",
      "metadata": {
        "colab": {
          "base_uri": "https://localhost:8080/"
        },
        "id": "CUpRD-MuskSC",
        "outputId": "9763e32c-0294-4026-9f18-91fdd2926acd"
      },
      "source": [
        "#Question 13\n",
        "#Set .intersection() Operation\n",
        "_ = input()\n",
        "arrn = set(map(int, input().split()))\n",
        "_ = input()\n",
        "arrb = set(map(int, input().split()))\n",
        "print(len(arrn.intersection(arrb)))"
      ],
      "execution_count": 38,
      "outputs": [
        {
          "output_type": "stream",
          "text": [
            "9\n",
            "1 2 3 4 5 6 7 8 9\n",
            "9\n",
            "10 1 2 3 11 21 55 6 8\n",
            "5\n"
          ],
          "name": "stdout"
        }
      ]
    },
    {
      "cell_type": "code",
      "metadata": {
        "colab": {
          "base_uri": "https://localhost:8080/"
        },
        "id": "HBJYhl9VxRpd",
        "outputId": "1ca6b5ea-10c3-4f29-e36e-8a4ecca7c86e"
      },
      "source": [
        "#Question 14\n",
        "#Set .difference() Operation\n",
        "_ = input()\n",
        "arrn = set(map(int, input().split()))\n",
        "_ = input()\n",
        "arrb = set(map(int, input().split()))\n",
        "print(len(arrn.difference(arrb)))"
      ],
      "execution_count": 39,
      "outputs": [
        {
          "output_type": "stream",
          "text": [
            "9\n",
            "1 2 3 4 5 6 7 8 9\n",
            "9\n",
            "10 1 2 3 11 21 55 6 8\n",
            "4\n"
          ],
          "name": "stdout"
        }
      ]
    },
    {
      "cell_type": "code",
      "metadata": {
        "colab": {
          "base_uri": "https://localhost:8080/"
        },
        "id": "RT3OOFf6xk1b",
        "outputId": "0cead29d-381b-4e54-d353-175079c7f434"
      },
      "source": [
        "#Question 15\n",
        "#Set .symmetric_difference() Operation\n",
        "_ = input()\n",
        "arrn = set(map(int, input().split()))\n",
        "_ = input()\n",
        "arrb = set(map(int, input().split()))\n",
        "print(len(arrn.symmetric_difference(arrb)))"
      ],
      "execution_count": 40,
      "outputs": [
        {
          "output_type": "stream",
          "text": [
            "9\n",
            "1 2 3 4 5 6 7 8 9\n",
            "9\n",
            "10 1 2 3 11 21 55 6 8\n",
            "8\n"
          ],
          "name": "stdout"
        }
      ]
    },
    {
      "cell_type": "code",
      "metadata": {
        "colab": {
          "base_uri": "https://localhost:8080/"
        },
        "id": "Ta17SSvXx1vD",
        "outputId": "a1e9edab-bca5-4fde-c77b-ad704c9430eb"
      },
      "source": [
        "#Question 16\n",
        "#Set Mutations\n",
        "_ = input()\n",
        "a = set(map(int, input().split()))\n",
        "n = input()\n",
        "n = int(n)\n",
        "for i in range(n):\n",
        "  f = list(input().split())\n",
        "  s = set(map(int, input().split()))\n",
        "  if f[0] == 'intersection_update':\n",
        "    a.intersection_update(s)\n",
        "  elif f[0] == 'update':\n",
        "    a.update(s)\n",
        "  elif f[0] == 'symmetric_difference_update':\n",
        "    a.symmetric_difference_update(s)\n",
        "  elif f[0] == 'difference_update':\n",
        "    a.difference_update(s)\n",
        "print(sum(a))"
      ],
      "execution_count": 46,
      "outputs": [
        {
          "output_type": "stream",
          "text": [
            "16\n",
            "1 2 3 4 5 6 7 8 9 10 11 12 13 14 24 52\n",
            "4\n",
            "intersection_update 10\n",
            "2 3 5 6 8 9 1 4 7 11\n",
            "update 2\n",
            "55 66\n",
            "symmetric_difference_update 5\n",
            "22 7 35 62 58\n",
            "difference_update 7\n",
            "11 22 35 55 58 62 66\n",
            "38\n"
          ],
          "name": "stdout"
        }
      ]
    },
    {
      "cell_type": "code",
      "metadata": {
        "colab": {
          "base_uri": "https://localhost:8080/"
        },
        "id": "A_l1tZQw0H7t",
        "outputId": "eb094124-c2e8-428b-c5ef-3bc9b64ba091"
      },
      "source": [
        "#Question 17\n",
        "#The Captain's Room\n",
        "k = input()\n",
        "k = int(k)\n",
        "a = list(map(int, input().split()))\n",
        "s = set(a)\n",
        "r = [i for i in s if a.count(i) == 1]\n",
        "print(r[0])"
      ],
      "execution_count": 54,
      "outputs": [
        {
          "output_type": "stream",
          "text": [
            "5\n",
            "1 2 3 6 5 4 4 2 5 3 6 1 6 5 3 2 4 1 2 5 1 4 3 6 8 4 3 1 5 6 2 \n",
            "8\n"
          ],
          "name": "stdout"
        }
      ]
    },
    {
      "cell_type": "code",
      "metadata": {
        "colab": {
          "base_uri": "https://localhost:8080/"
        },
        "id": "NgDVKzAf1lFb",
        "outputId": "037311ef-e2ae-40f4-a02d-75fb7429a8ae"
      },
      "source": [
        "#Question 18\n",
        "#Check Subset\n",
        "n = input()\n",
        "for i in range(int(n)):\n",
        "  _ = input()\n",
        "  a = set(map(int, input().split()))\n",
        "  _ = input()\n",
        "  b = set(map(int, input().split()))\n",
        "  c = a.difference(b)\n",
        "  if len(c) == 0:\n",
        "    print(True)\n",
        "  else:\n",
        "    print(False)"
      ],
      "execution_count": 55,
      "outputs": [
        {
          "output_type": "stream",
          "text": [
            "3\n",
            "5\n",
            "1 2 3 5 6\n",
            "9\n",
            "9 8 5 6 3 2 1 4 7\n",
            "True\n",
            "1\n",
            "2\n",
            "5\n",
            "3 6 5 4 1\n",
            "False\n",
            "7\n",
            "1 2 3 5 6 8 9\n",
            "3\n",
            "9 8 2\n",
            "False\n"
          ],
          "name": "stdout"
        }
      ]
    },
    {
      "cell_type": "code",
      "metadata": {
        "colab": {
          "base_uri": "https://localhost:8080/"
        },
        "id": "u4G96aoP3J0M",
        "outputId": "2b8545d4-3776-4a02-f9c5-ebea0f78be73"
      },
      "source": [
        "#Question 19\n",
        "#Check Strict Superset\n",
        "a = set(map(int, input().split()))\n",
        "n = input()\n",
        "sc = []\n",
        "for i in range(int(n)):\n",
        "  s = set(map(int, input().split()))\n",
        "  r = s.difference(a)\n",
        "  if len(r) == 0:\n",
        "    sc.append(True)\n",
        "  else:\n",
        "    sc.append(False)\n",
        "if False in sc:\n",
        "  print(False)\n",
        "else:\n",
        "  print(True)"
      ],
      "execution_count": 58,
      "outputs": [
        {
          "output_type": "stream",
          "text": [
            "1 2 3 4 5 6 7 8 9 10 11 12 23 45 84 78\n",
            "2\n",
            "1 2 3 4 5\n",
            "100 11 12\n",
            "False\n"
          ],
          "name": "stdout"
        }
      ]
    }
  ]
}