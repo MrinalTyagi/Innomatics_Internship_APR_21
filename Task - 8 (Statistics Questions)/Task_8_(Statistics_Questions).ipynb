{
  "nbformat": 4,
  "nbformat_minor": 0,
  "metadata": {
    "colab": {
      "name": "Task - 8 (Statistics Questions).ipynb",
      "provenance": [],
      "collapsed_sections": []
    },
    "kernelspec": {
      "name": "python3",
      "display_name": "Python 3"
    },
    "language_info": {
      "name": "python"
    }
  },
  "cells": [
    {
      "cell_type": "code",
      "metadata": {
        "colab": {
          "base_uri": "https://localhost:8080/"
        },
        "id": "x4jUwQNHQ5s5",
        "outputId": "49cd20e2-42aa-456e-e320-9da42be3e413"
      },
      "source": [
        "#Question 1\n",
        "import math\n",
        "a,b = map(float,input().split())\n",
        "\n",
        "prob = a/(a+b)\n",
        "\n",
        "def nCr(n,r):\n",
        "    f = math.factorial\n",
        "    return f(n) /( f(r) * f(n-r) )\n",
        "res = 0\n",
        "for i in range(3,7):\n",
        "    res += nCr(6,i)*(prob**i)*((1-prob)**(6-i))\n",
        "print(round(res,3))"
      ],
      "execution_count": 1,
      "outputs": [
        {
          "output_type": "stream",
          "text": [
            "1.09 1\n",
            "0.696\n"
          ],
          "name": "stdout"
        }
      ]
    },
    {
      "cell_type": "code",
      "metadata": {
        "colab": {
          "base_uri": "https://localhost:8080/"
        },
        "id": "AOoxs22TRL96",
        "outputId": "28f20d50-2a5e-43a8-ad24-bfaef2aba049"
      },
      "source": [
        "#Question 2\n",
        "import math\n",
        "a,n = map(int,input().split())\n",
        "prob = a/100\n",
        "def nCr(n,r):\n",
        "    f = math.factorial\n",
        "    return f(n) /( f(r) * f(n-r) )\n",
        "ansA = 0\n",
        "ansB = 0\n",
        "\n",
        "for i in range(0,3):\n",
        "    ansA+= nCr(n,i)*(prob**i)*((1-prob)**(n-i))\n",
        "\n",
        "for i in range(2):\n",
        "    ansB += nCr(n,i)*(prob**i)*((1-prob)**(n-i))\n",
        "\n",
        "print(round(ansA,3))\n",
        "print(round(1-ansB,3))"
      ],
      "execution_count": 2,
      "outputs": [
        {
          "output_type": "stream",
          "text": [
            "12 10\n",
            "0.891\n",
            "0.342\n"
          ],
          "name": "stdout"
        }
      ]
    },
    {
      "cell_type": "code",
      "metadata": {
        "colab": {
          "base_uri": "https://localhost:8080/"
        },
        "id": "7oDqrZ62RUBc",
        "outputId": "f559fbd6-6f7b-4c59-b99e-f29aca89ebb1"
      },
      "source": [
        "#Question 3\n",
        "import math\n",
        "mean,std = map(int,input().split())\n",
        "a  = float(input())\n",
        "b,c = map(float,input().split())\n",
        "\n",
        "def nd(mean,std,x):\n",
        "    return(0.5*(1 + math.erf((x-mean)/(std*(2**0.5)))))\n",
        "ans1 = nd(mean,std,a)\n",
        "ans2 = nd(mean,std,c)-nd(mean,std,b)\n",
        "print(round(ans1,3))\n",
        "print(round(ans2,3))"
      ],
      "execution_count": 3,
      "outputs": [
        {
          "output_type": "stream",
          "text": [
            "20 2\n",
            "19.5\n",
            "20 22\n",
            "0.401\n",
            "0.341\n"
          ],
          "name": "stdout"
        }
      ]
    },
    {
      "cell_type": "code",
      "metadata": {
        "colab": {
          "base_uri": "https://localhost:8080/"
        },
        "id": "j8eayAtZRbjg",
        "outputId": "dd0d6264-4cad-48ff-fbdd-ec00a45b123c"
      },
      "source": [
        "#Question 4\n",
        "import math\n",
        "mean,std = map(int,input().split())\n",
        "a  = float(input())\n",
        "b =  float(input())\n",
        "def nd(mean,std,x):\n",
        "    return(0.5*(1 + math.erf((x-mean)/(std*(2**0.5))))*100)\n",
        "ans1 = 100- nd(mean,std,a)\n",
        "ans3 = nd(mean,std,b)\n",
        "ans2 = 100 - ans3\n",
        "print(round(ans1,3))\n",
        "print(round(ans2,3))\n",
        "print(round(ans3,3))"
      ],
      "execution_count": 4,
      "outputs": [
        {
          "output_type": "stream",
          "text": [
            "70 10\n",
            "80\n",
            "60\n",
            "15.866\n",
            "84.134\n",
            "15.866\n"
          ],
          "name": "stdout"
        }
      ]
    },
    {
      "cell_type": "code",
      "metadata": {
        "colab": {
          "base_uri": "https://localhost:8080/"
        },
        "id": "v-tmdlaqRb1d",
        "outputId": "cf0b5bf7-4368-4e65-d2e7-0e86f1fd5deb"
      },
      "source": [
        "#Question 5\n",
        "import math\n",
        "x = int(input())\n",
        "box = int(input())\n",
        "mean = int(input())\n",
        "std = int(input())\n",
        "def nd(mean,std,x):\n",
        "    return(0.5*(1 + math.erf((x-mean)/(std*(2**0.5)))))\n",
        "\n",
        "ans = nd(box * mean,(box**0.5)*std,x)\n",
        "print(round(ans,4))"
      ],
      "execution_count": 5,
      "outputs": [
        {
          "output_type": "stream",
          "text": [
            "9800\n",
            "49\n",
            "205\n",
            "15\n",
            "0.0098\n"
          ],
          "name": "stdout"
        }
      ]
    },
    {
      "cell_type": "code",
      "metadata": {
        "colab": {
          "base_uri": "https://localhost:8080/"
        },
        "id": "hmJLTfhyRb_Z",
        "outputId": "bd70dedf-0403-4e2b-edf9-9f8e1e1f7a67"
      },
      "source": [
        "#Question 6\n",
        "import math\n",
        "x = int(input())\n",
        "box = int(input())\n",
        "mean = float(input())\n",
        "std = float(input())\n",
        "def nd(mean,std,x):\n",
        "    return(0.5*(1 + math.erf((x-mean)/(std*(2**0.5)))))\n",
        "\n",
        "ans = nd(box * mean,(box**0.5)*std,x)\n",
        "print(round(ans,4))"
      ],
      "execution_count": 6,
      "outputs": [
        {
          "output_type": "stream",
          "text": [
            "250\n",
            "100\n",
            "2.4\n",
            "2.0\n",
            "0.6915\n"
          ],
          "name": "stdout"
        }
      ]
    },
    {
      "cell_type": "code",
      "metadata": {
        "colab": {
          "base_uri": "https://localhost:8080/"
        },
        "id": "o9qIsViRRcLo",
        "outputId": "8a48648b-bfa0-43f8-e835-7be5331e4ba5"
      },
      "source": [
        "#Question 7\n",
        "import math\n",
        "samplesize = int(input())\n",
        "mean = int(input())\n",
        "std = int(input())\n",
        "a = float(input())\n",
        "z = float(input())\n",
        "\n",
        "moe = z * std/(samplesize**0.5)\n",
        "print(round(mean-moe,2))\n",
        "print(round(mean+moe,2))"
      ],
      "execution_count": 7,
      "outputs": [
        {
          "output_type": "stream",
          "text": [
            "100\n",
            "500\n",
            "80\n",
            "0.95\n",
            "1.96\n",
            "484.32\n",
            "515.68\n"
          ],
          "name": "stdout"
        }
      ]
    },
    {
      "cell_type": "code",
      "metadata": {
        "colab": {
          "base_uri": "https://localhost:8080/"
        },
        "id": "VjxOMdKLRcqA",
        "outputId": "3b942f61-fd18-4e22-fdaa-2abbc490ee21"
      },
      "source": [
        "#Question 8\n",
        "import numpy as np\n",
        "N = int(input())\n",
        "x = np.array([input().split() for _ in range(N)],float)\n",
        "y = np.array([input().split() for _ in range(N)],float)\n",
        "def pcc(x,y,n,m1,std1,m2,std2):\n",
        "    n1 = 0\n",
        "    for xi,yi in zip(x,y):\n",
        "        n1+=(xi-m1)*(yi-m2)\n",
        "    n2 = n*std1*std2\n",
        "    return(n1/n2)\n",
        "res = pcc(x,y,N,np.mean(x),np.std(x),np.mean(y),np.std(y))\n",
        "print(round(res[0],3))"
      ],
      "execution_count": 8,
      "outputs": [
        {
          "output_type": "stream",
          "text": [
            "10\n",
            "10\n",
            "9.8\n",
            "8\n",
            "7.8\n",
            "7.7\n",
            "7\n",
            "6\n",
            "5\n",
            "4\n",
            "2\n",
            "200\n",
            "44\n",
            "32\n",
            "24\n",
            "22\n",
            "17\n",
            "15\n",
            "12\n",
            "8\n",
            "4\n",
            "0.612\n"
          ],
          "name": "stdout"
        }
      ]
    },
    {
      "cell_type": "code",
      "metadata": {
        "colab": {
          "base_uri": "https://localhost:8080/"
        },
        "id": "orYo-IXFRczY",
        "outputId": "6786fce9-52ac-49df-e318-099c07747c06"
      },
      "source": [
        "#Question 9\n",
        "n = int(input())\n",
        "x = []\n",
        "y = []\n",
        "for _ in range(n):\n",
        "    val = input().split()\n",
        "    x.append(int(val[0]))\n",
        "    y.append(int(val[1]))\n",
        "\n",
        "x = np.array(x)\n",
        "y = np.array(y)\n",
        "\n",
        "m1 = np.mean(x)\n",
        "m2 = np.mean(y)\n",
        "x2 = sum(x**2)\n",
        "xy = sum(x*y)\n",
        "m = (n*xy - sum(x)*sum(y))/(n*x2 - (sum(x)**2))\n",
        "c = m2 - m*m1\n",
        "print(round(m*80+c,3))"
      ],
      "execution_count": 9,
      "outputs": [
        {
          "output_type": "stream",
          "text": [
            "5\n",
            "95 85\n",
            "85 95\n",
            "80 70\n",
            "70 65\n",
            "60 70\n",
            "78.288\n"
          ],
          "name": "stdout"
        }
      ]
    },
    {
      "cell_type": "code",
      "metadata": {
        "colab": {
          "base_uri": "https://localhost:8080/"
        },
        "id": "3eV_W1raRc-x",
        "outputId": "4e13818b-82f8-4a3e-ad3a-bd065d3cce33"
      },
      "source": [
        "#Question 10\n",
        "import numpy as np\n",
        "from sklearn import linear_model\n",
        "m,n = [int(i) for i in input().strip().split(' ')]\n",
        "X = []\n",
        "Y = []\n",
        "for i in range(n):\n",
        "    val = input().strip().split()\n",
        "    X.append(val[:m])\n",
        "    Y.append(val[m:])\n",
        "lm = linear_model.LinearRegression()\n",
        "lm.fit(X, Y)\n",
        "a = lm.intercept_\n",
        "b = lm.coef_\n",
        "b = b[0]\n",
        "outn = int(input())\n",
        "\n",
        "Xout = []\n",
        "for i in range(outn):\n",
        "    val = input().strip().split()\n",
        "    Xout.append(val)\n",
        "Xout = np.array(Xout)\n",
        "Xout = Xout.astype('float')\n",
        "\n",
        "for i in range(outn):\n",
        "    print(sum([b[j]*Xout[i,j] for j in range(m)])+a)"
      ],
      "execution_count": 12,
      "outputs": [
        {
          "output_type": "stream",
          "text": [
            "2 2\n",
            "1 2 4\n",
            "4 5 7\n"
          ],
          "name": "stdout"
        },
        {
          "output_type": "stream",
          "text": [
            "/usr/local/lib/python3.7/dist-packages/sklearn/utils/validation.py:755: FutureWarning: Beginning in version 0.22, arrays of bytes/strings will be converted to decimal numbers if dtype='numeric'. It is recommended that you convert the array to a float dtype before using it in scikit-learn, for example by using your_array = your_array.astype(np.float64).\n",
            "  estimator=estimator)\n"
          ],
          "name": "stderr"
        },
        {
          "output_type": "stream",
          "text": [
            "2\n",
            "1 4\n",
            "5 6\n",
            "[5.]\n",
            "[8.]\n"
          ],
          "name": "stdout"
        }
      ]
    }
  ]
}